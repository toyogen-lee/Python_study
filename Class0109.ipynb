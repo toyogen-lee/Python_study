{
  "nbformat": 4,
  "nbformat_minor": 0,
  "metadata": {
    "colab": {
      "provenance": [],
      "authorship_tag": "ABX9TyMH39uMSn7vYldPIT5CqZtB",
      "include_colab_link": true
    },
    "kernelspec": {
      "name": "python3",
      "display_name": "Python 3"
    },
    "language_info": {
      "name": "python"
    }
  },
  "cells": [
    {
      "cell_type": "markdown",
      "metadata": {
        "id": "view-in-github",
        "colab_type": "text"
      },
      "source": [
        "<a href=\"https://colab.research.google.com/github/toyogen-lee/Python_study/blob/main/Class0109.ipynb\" target=\"_parent\"><img src=\"https://colab.research.google.com/assets/colab-badge.svg\" alt=\"Open In Colab\"/></a>"
      ]
    },
    {
      "cell_type": "code",
      "execution_count": null,
      "metadata": {
        "id": "cC24YXvZaUI2"
      },
      "outputs": [],
      "source": [
        "#range : 실제로 사용하기 전까지는 메모리를 사용하지 않는다.  **고효율**\n",
        "a = range(1, 1000)\n",
        "print(a[-2])  #-n : 마지막에서 (n-1)번째"
      ]
    },
    {
      "cell_type": "code",
      "source": [
        "#enumerate - 열거하다\n",
        "a = [22, 33, 44]\n",
        "for i, v in enumerate(a):\n",
        "  print(i, v)"
      ],
      "metadata": {
        "id": "MQcA8G09jUYv"
      },
      "execution_count": null,
      "outputs": []
    },
    {
      "cell_type": "code",
      "source": [
        "#str - '' \"\" 로 감싸진 데이터 - sequence 자료형\n",
        "\n",
        "a = 'qwer'\n",
        "\n",
        "#a[0] = 't'  불가능\n",
        "a = 'zxcvAPn'  #재할당 - tuple 도 가능\n",
        "print(a[0])\n",
        "\n",
        "print(a.upper())  #대문자 소문자\n",
        "print(a.lower())\n",
        "\n",
        "a = 'ㄱㄴㄷㄹㅁㅂㅅㅇㅈ'\n",
        "print(a[:2])\n",
        "print(a[::-1])  #reversed\n",
        "\n",
        "a = '가나\\n다라\\n마바사'\n",
        "\n",
        "a = '''가나\n",
        "다라\n",
        "마바사\n",
        "'''\n",
        "print(a)"
      ],
      "metadata": {
        "colab": {
          "base_uri": "https://localhost:8080/"
        },
        "id": "uM16vQtpjucv",
        "outputId": "fcc191d7-874c-4ead-c293-4e29c28c45b1"
      },
      "execution_count": null,
      "outputs": [
        {
          "output_type": "stream",
          "name": "stdout",
          "text": [
            "z\n",
            "ZXCVAPN\n",
            "zxcvapn\n",
            "ㄱㄴ\n",
            "ㅈㅇㅅㅂㅁㄹㄷㄴㄱ\n",
            "가나\n",
            "다라\n",
            "마바사\n",
            "\n"
          ]
        }
      ]
    },
    {
      "cell_type": "code",
      "source": [
        "s = 'people'\n",
        "i = 0\n",
        "while i < len(s):\n",
        "  print(s[i], end = ' ')   #end : 출력할 때 줄바꿈 안되게 하기\n",
        "  i += 1"
      ],
      "metadata": {
        "colab": {
          "base_uri": "https://localhost:8080/"
        },
        "id": "9NATMgUZy3B_",
        "outputId": "10f42ed8-e1a9-4680-d11b-22aa30944362"
      },
      "execution_count": null,
      "outputs": [
        {
          "output_type": "stream",
          "name": "stdout",
          "text": [
            "p e o p l e "
          ]
        }
      ]
    }
  ]
}