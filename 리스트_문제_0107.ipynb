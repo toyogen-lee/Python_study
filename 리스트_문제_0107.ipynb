{
  "nbformat": 4,
  "nbformat_minor": 0,
  "metadata": {
    "colab": {
      "provenance": [],
      "include_colab_link": true
    },
    "kernelspec": {
      "name": "python3",
      "display_name": "Python 3"
    },
    "language_info": {
      "name": "python"
    }
  },
  "cells": [
    {
      "cell_type": "markdown",
      "metadata": {
        "id": "view-in-github",
        "colab_type": "text"
      },
      "source": [
        "<a href=\"https://colab.research.google.com/github/toyogen-lee/Python_study/blob/main/%EB%A6%AC%EC%8A%A4%ED%8A%B8_%EB%AC%B8%EC%A0%9C_0107.ipynb\" target=\"_parent\"><img src=\"https://colab.research.google.com/assets/colab-badge.svg\" alt=\"Open In Colab\"/></a>"
      ]
    },
    {
      "cell_type": "code",
      "source": [
        "# 문제 : 리스트에 순서대로 2, 1, 5, 6, 7를 한번에 담아주세요.\n",
        "a = [2, 1, 5, 6, 7]\n",
        "print(a)"
      ],
      "metadata": {
        "id": "jnCVacx4SI_T",
        "outputId": "cc6f6c22-6e55-43c5-8d6d-cca26666d191",
        "colab": {
          "base_uri": "https://localhost:8080/"
        }
      },
      "execution_count": null,
      "outputs": [
        {
          "output_type": "stream",
          "name": "stdout",
          "text": [
            "[2, 1, 5, 6, 7]\n"
          ]
        }
      ]
    },
    {
      "cell_type": "code",
      "source": [
        "# 문제 : 비어있는 리스트를 만들고, 순서대로 2, 1, 5, 6, 7를 하나씩 담아주세요.\n",
        "a = []\n",
        "a.append(2)\n",
        "a.append(1)\n",
        "a.append(5)\n",
        "a.append(6)\n",
        "a.append(7)\n",
        "print(a)"
      ],
      "metadata": {
        "id": "G80-LgJ0c-Ik",
        "outputId": "48a27ddd-0e61-4b0e-ef22-3cfd03a3e012",
        "colab": {
          "base_uri": "https://localhost:8080/"
        }
      },
      "execution_count": null,
      "outputs": [
        {
          "output_type": "stream",
          "name": "stdout",
          "text": [
            "[2, 1, 5, 6, 7]\n"
          ]
        }
      ]
    },
    {
      "cell_type": "code",
      "source": [
        "# 문제 : 리스트에 순서대로 '월', '화', '수', '목', '금'을 한번에 담아주세요. 그리고 '토', '일' 을 순서대로 추가해주세요.\n",
        "a = ['월', '화', '수']\n",
        "a = a + ['토', '일']\n",
        "print(a)"
      ],
      "metadata": {
        "id": "iUEkBKK0c-Mb",
        "outputId": "bac13dbb-2193-451e-ac84-8f017462a87e",
        "colab": {
          "base_uri": "https://localhost:8080/"
        }
      },
      "execution_count": null,
      "outputs": [
        {
          "output_type": "stream",
          "name": "stdout",
          "text": [
            "['월', '화', '수', '토', '일']\n"
          ]
        }
      ]
    },
    {
      "cell_type": "code",
      "source": [
        "# 문제 : 리스트에 순서대로 '월', '화', '수', '목', '금'을 한번에 담아주세요. 그리고 '토', '일' 을 담은 리스트를 만들고 2개의 리스트 합쳐서 새로운 리스트를 만들어주세요.\n",
        "a = ['월', '화', '수']\n",
        "b = ['토', '일']\n",
        "c = a + b\n",
        "print(c)"
      ],
      "metadata": {
        "id": "wYRM059Xc-Qp",
        "outputId": "9d2fef96-8b50-4235-b08c-1ca68a62c2a6",
        "colab": {
          "base_uri": "https://localhost:8080/"
        }
      },
      "execution_count": null,
      "outputs": [
        {
          "output_type": "stream",
          "name": "stdout",
          "text": [
            "['월', '화', '수', '토', '일']\n"
          ]
        }
      ]
    },
    {
      "cell_type": "code",
      "source": [
        "# 문제 : 리스트에 순서대로 '월', '화', '수', '목', '금'을 한번에 담아주세요. 그리고 '+=' 연산자를 이용해서 '토', '일' 을 한번에 추가해주세요.\n",
        "a = ['월', '화', '수']\n",
        "a += ['토', '일']\n",
        "print(a)"
      ],
      "metadata": {
        "id": "Se901nV8c-Uw",
        "outputId": "2a429df6-db72-45bd-95ad-7af127557cac",
        "colab": {
          "base_uri": "https://localhost:8080/"
        }
      },
      "execution_count": null,
      "outputs": [
        {
          "output_type": "stream",
          "name": "stdout",
          "text": [
            "['월', '화', '수', '토', '일']\n"
          ]
        }
      ]
    }
  ]
}