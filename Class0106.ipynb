{
  "nbformat": 4,
  "nbformat_minor": 0,
  "metadata": {
    "colab": {
      "provenance": [],
      "authorship_tag": "ABX9TyNMH/coSTETBfx3JpMEZ3tk",
      "include_colab_link": true
    },
    "kernelspec": {
      "name": "python3",
      "display_name": "Python 3"
    },
    "language_info": {
      "name": "python"
    }
  },
  "cells": [
    {
      "cell_type": "markdown",
      "metadata": {
        "id": "view-in-github",
        "colab_type": "text"
      },
      "source": [
        "<a href=\"https://colab.research.google.com/github/toyogen-lee/Python_study/blob/main/Class0106.ipynb\" target=\"_parent\"><img src=\"https://colab.research.google.com/assets/colab-badge.svg\" alt=\"Open In Colab\"/></a>"
      ]
    },
    {
      "cell_type": "code",
      "execution_count": null,
      "metadata": {
        "colab": {
          "base_uri": "https://localhost:8080/"
        },
        "id": "sgx83dS7SZ-G",
        "outputId": "d71163bb-72ef-4cb5-9a13-af85ab171e47"
      },
      "outputs": [
        {
          "output_type": "stream",
          "name": "stdout",
          "text": [
            "10\n",
            "10\n",
            "10\n"
          ]
        }
      ],
      "source": [
        "#전역변수와 지역변수\n",
        "x = 10\n",
        "print(x)\n",
        "\n",
        "def test():\n",
        "  print(x)\n",
        "\n",
        "test()\n",
        "\n",
        "\n",
        "\n",
        "def test2():\n",
        "  y = 10\n",
        "  print(y)\n",
        "test2()\n",
        "#print(y)"
      ]
    },
    {
      "cell_type": "code",
      "source": [
        "x = 10\n",
        "def test():\n",
        "  x = 20\n",
        "  print('함수 내부에서의 출력 : ', end = '')\n",
        "  print(x)\n",
        "test()\n",
        "print('함수 외부에서의 출력 : ', end = '')\n",
        "print(x)\n",
        "\n",
        "y = 15\n",
        "def te():\n",
        "  global y\n",
        "  y = 25\n",
        "  print(y)\n",
        "print(y)\n",
        "te() #순서 중요"
      ],
      "metadata": {
        "colab": {
          "base_uri": "https://localhost:8080/"
        },
        "id": "og5Y-0jvUyml",
        "outputId": "c90077eb-8359-4e68-9c03-dfd9c2f7aea7"
      },
      "execution_count": null,
      "outputs": [
        {
          "output_type": "stream",
          "name": "stdout",
          "text": [
            "함수 내부에서의 출력 : 20\n",
            "함수 외부에서의 출력 : 10\n",
            "15\n",
            "25\n"
          ]
        }
      ]
    },
    {
      "cell_type": "code",
      "source": [
        "def te():\n",
        "  print('te')\n",
        "  to()\n",
        "\n",
        "def to():\n",
        "  print('to')\n",
        "te()"
      ],
      "metadata": {
        "colab": {
          "base_uri": "https://localhost:8080/"
        },
        "id": "8lHhw8MYXgeP",
        "outputId": "9a929be1-cdf9-4e32-859c-621bcfff6f46"
      },
      "execution_count": null,
      "outputs": [
        {
          "output_type": "stream",
          "name": "stdout",
          "text": [
            "te\n",
            "to\n"
          ]
        }
      ]
    },
    {
      "cell_type": "code",
      "source": [
        "#재귀 함수 - 팩토리얼\n",
        "def fac(num):\n",
        "  if num == 1:\n",
        "    return 1\n",
        "  return num * fac(num - 1)\n",
        "fac(5)"
      ],
      "metadata": {
        "colab": {
          "base_uri": "https://localhost:8080/"
        },
        "id": "cslP2fCSYRQi",
        "outputId": "117c3bd7-e9f9-49a3-f59c-3884075f1962"
      },
      "execution_count": null,
      "outputs": [
        {
          "output_type": "execute_result",
          "data": {
            "text/plain": [
              "120"
            ]
          },
          "metadata": {},
          "execution_count": 13
        }
      ]
    },
    {
      "cell_type": "code",
      "source": [
        "def test(a, b):\n",
        "  return a, b\n",
        "\n",
        "x, y = test(10, 'gkgk')\n",
        "print(x)\n",
        "print(y)"
      ],
      "metadata": {
        "colab": {
          "base_uri": "https://localhost:8080/"
        },
        "id": "c3qtHXbsZ4IF",
        "outputId": "e89751a4-ea42-4ae2-a6ea-bede61bd4c14"
      },
      "execution_count": null,
      "outputs": [
        {
          "output_type": "stream",
          "name": "stdout",
          "text": [
            "10\n",
            "gkgk\n"
          ]
        }
      ]
    },
    {
      "cell_type": "code",
      "source": [
        "#람다 함수(익명)\n",
        "lambda x, y: x + y"
      ],
      "metadata": {
        "colab": {
          "base_uri": "https://localhost:8080/"
        },
        "id": "u6keuzRraZXP",
        "outputId": "b35302c0-975f-477e-9807-b69120e96da1"
      },
      "execution_count": null,
      "outputs": [
        {
          "output_type": "execute_result",
          "data": {
            "text/plain": [
              "<function __main__.<lambda>(x, y)>"
            ]
          },
          "metadata": {},
          "execution_count": 15
        }
      ]
    }
  ]
}