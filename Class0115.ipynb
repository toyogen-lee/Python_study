{
  "nbformat": 4,
  "nbformat_minor": 0,
  "metadata": {
    "colab": {
      "provenance": [],
      "authorship_tag": "ABX9TyMfq/80uGjwdyyVUxq81dsv",
      "include_colab_link": true
    },
    "kernelspec": {
      "name": "python3",
      "display_name": "Python 3"
    },
    "language_info": {
      "name": "python"
    }
  },
  "cells": [
    {
      "cell_type": "markdown",
      "metadata": {
        "id": "view-in-github",
        "colab_type": "text"
      },
      "source": [
        "<a href=\"https://colab.research.google.com/github/toyogen-lee/Python_study/blob/main/Class0115.ipynb\" target=\"_parent\"><img src=\"https://colab.research.google.com/assets/colab-badge.svg\" alt=\"Open In Colab\"/></a>"
      ]
    },
    {
      "cell_type": "code",
      "source": [
        "class Person:\n",
        "  def __init__(self):\n",
        "    self.count = 0  #인스턴스 속성\n",
        "\n",
        "person = Person()\n",
        "print(person.count)\n",
        "person.count += 1\n",
        "print(person.count)\n",
        "\n",
        "person.count2 = 0\n",
        "print(person.count2)\n",
        "\n",
        "\n",
        "person2 = Person()\n",
        "print(person2.count)  #독립적"
      ],
      "metadata": {
        "colab": {
          "base_uri": "https://localhost:8080/"
        },
        "id": "z0Vss_BxcrTC",
        "outputId": "44f1cafe-bbd6-4611-8516-edc65dce835c"
      },
      "execution_count": 6,
      "outputs": [
        {
          "output_type": "stream",
          "name": "stdout",
          "text": [
            "0\n",
            "1\n",
            "0\n",
            "0\n"
          ]
        }
      ]
    },
    {
      "cell_type": "code",
      "source": [
        "class Person:\n",
        "  count = 10  #클래스 속성\n",
        "  def get_count(self):\n",
        "    return Person.count\n",
        "\n",
        "person = Person()\n",
        "Person.count += 1\n",
        "print(person.get_count())\n",
        "\n",
        "person2 = Person()\n",
        "print(person2.get_count())  #공유"
      ],
      "metadata": {
        "colab": {
          "base_uri": "https://localhost:8080/"
        },
        "id": "JNIOEo1ueKiG",
        "outputId": "9f304299-400f-4d3b-9bfe-06938558f712"
      },
      "execution_count": 10,
      "outputs": [
        {
          "output_type": "stream",
          "name": "stdout",
          "text": [
            "11\n",
            "11\n"
          ]
        }
      ]
    },
    {
      "cell_type": "code",
      "source": [
        "class Person:\n",
        "  count = 10\n",
        "  def __init__(self):\n",
        "    self.count = 5\n",
        "  def geca(self):\n",
        "    return self.count  #클래스 속성 10을 가져오고 싶을 땐 Person.count\n",
        "\n",
        "print(Person.count)\n",
        "p = Person()\n",
        "print(p.geca())\n",
        "\n",
        "\n",
        "\n",
        "class P:\n",
        "  __test = 'test'  #private\n",
        "  test2 = 'test2'\n",
        "\n",
        "#print(P.__test)\n",
        "print(P.test2)"
      ],
      "metadata": {
        "colab": {
          "base_uri": "https://localhost:8080/"
        },
        "id": "7Bqg2fFNf4oD",
        "outputId": "d8661682-c4ff-49c0-b14b-fce6a468bc64"
      },
      "execution_count": 16,
      "outputs": [
        {
          "output_type": "stream",
          "name": "stdout",
          "text": [
            "10\n",
            "5\n",
            "test2\n"
          ]
        }
      ]
    },
    {
      "cell_type": "code",
      "source": [
        "class Article:\n",
        "  articleld = 0\n",
        "\n",
        "  def __init__(self, title, body):\n",
        "    self.title = title\n",
        "    self.body = body\n",
        "    Article.articleld += 1  #넘버링 부여\n",
        "\n",
        "  def getArticleld(self):\n",
        "    return Article.articleld\n",
        "  def getArticleTitle(self):\n",
        "    return self.title\n",
        "  def getArticleBody(self):\n",
        "    return self.body\n",
        "\n",
        "article1 = Article('osu', 'mama')\n",
        "article2 = Article('yusu', 'bama')\n",
        "article3 = Article('sisu', 'gama')\n",
        "\n",
        "print(article2)"
      ],
      "metadata": {
        "colab": {
          "base_uri": "https://localhost:8080/"
        },
        "id": "eeKOoLMmhaxU",
        "outputId": "59160dbd-84f3-4950-8af5-97b0e5375da4"
      },
      "execution_count": 19,
      "outputs": [
        {
          "output_type": "stream",
          "name": "stdout",
          "text": [
            "<__main__.Article object at 0x7f6b2e667d90>\n"
          ]
        }
      ]
    }
  ]
}