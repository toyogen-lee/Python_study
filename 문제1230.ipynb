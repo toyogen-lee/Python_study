{
  "nbformat": 4,
  "nbformat_minor": 0,
  "metadata": {
    "colab": {
      "provenance": [],
      "authorship_tag": "ABX9TyO8HAROLdr1QN+oQZWkFkCO",
      "include_colab_link": true
    },
    "kernelspec": {
      "name": "python3",
      "display_name": "Python 3"
    },
    "language_info": {
      "name": "python"
    }
  },
  "cells": [
    {
      "cell_type": "markdown",
      "metadata": {
        "id": "view-in-github",
        "colab_type": "text"
      },
      "source": [
        "<a href=\"https://colab.research.google.com/github/toyogen-lee/Python_study/blob/main/%EB%AC%B8%EC%A0%9C1230.ipynb\" target=\"_parent\"><img src=\"https://colab.research.google.com/assets/colab-badge.svg\" alt=\"Open In Colab\"/></a>"
      ]
    },
    {
      "cell_type": "code",
      "source": [
        "print(\"안녕하세요\")\n",
        "print(\"안녕하세요\")\n",
        "print(\"안녕하세요\")\n",
        "print(\"안녕하세요\")\n",
        "print(\"안녕하세요\")\n",
        "print(\"안녕하세요\")\n",
        "print(\"안녕하세요\")\n",
        "print(\"안녕하세요\")\n",
        "print(\"안녕하세요\")\n",
        "print(\"안녕하세요\")"
      ],
      "metadata": {
        "colab": {
          "base_uri": "https://localhost:8080/"
        },
        "id": "l7o9sh7q6wvE",
        "outputId": "ad1c5050-88d9-4c25-ab92-6ac937ecd12d"
      },
      "execution_count": null,
      "outputs": [
        {
          "output_type": "stream",
          "name": "stdout",
          "text": [
            "안녕하세요\n",
            "안녕하세요\n",
            "안녕하세요\n",
            "안녕하세요\n",
            "안녕하세요\n",
            "안녕하세요\n",
            "안녕하세요\n",
            "안녕하세요\n",
            "안녕하세요\n",
            "안녕하세요\n"
          ]
        }
      ]
    },
    {
      "cell_type": "code",
      "source": [
        "print(\"안녕하세요.안녕하세요.안녕하세요.안녕하세요.안녕하세요.안녕하세요.안녕하세요.안녕하세요.안녕하세요.안녕하세요.\")\n",
        "print(\"안녕하세요.\" * 10)"
      ],
      "metadata": {
        "colab": {
          "base_uri": "https://localhost:8080/"
        },
        "id": "5yKbfLsd7Jc_",
        "outputId": "c40a8c63-2ae2-45c2-b518-eccca855b1ee"
      },
      "execution_count": null,
      "outputs": [
        {
          "output_type": "stream",
          "name": "stdout",
          "text": [
            "안녕하세요.안녕하세요.안녕하세요.안녕하세요.안녕하세요.안녕하세요.안녕하세요.안녕하세요.안녕하세요.안녕하세요.\n",
            "안녕하세요.안녕하세요.안녕하세요.안녕하세요.안녕하세요.안녕하세요.안녕하세요.안녕하세요.안녕하세요.안녕하세요.\n"
          ]
        }
      ]
    },
    {
      "cell_type": "code",
      "execution_count": null,
      "metadata": {
        "colab": {
          "base_uri": "https://localhost:8080/"
        },
        "id": "-zcxzgo52Tjz",
        "outputId": "ded14524-bdf6-423e-dbbb-745d5a4d440b"
      },
      "outputs": [
        {
          "output_type": "stream",
          "name": "stdout",
          "text": [
            "안녕하세요.\n",
            "안녕하세요.\n",
            "안녕하세요.\n",
            "안녕하세요.\n",
            "안녕하세요.\n",
            "안녕하세요.\n",
            "안녕하세요.\n",
            "안녕하세요.\n",
            "안녕하세요.\n",
            "안녕하세요.\n",
            "안녕하세요.\n",
            "안녕하세요.\n",
            "안녕하세요.\n",
            "안녕하세요.\n",
            "안녕하세요.\n",
            "안녕하세요.\n",
            "안녕하세요.\n",
            "안녕하세요.\n",
            "안녕하세요.\n",
            "안녕하세요.\n",
            "\n"
          ]
        }
      ],
      "source": [
        "print(\"안녕하세요.\\n안녕하세요.\\n안녕하세요.\\n안녕하세요.\\n안녕하세요.\\n안녕하세요.\\n안녕하세요.\\n안녕하세요.\\n안녕하세요.\\n안녕하세요.\")\n",
        "print(\"안녕하세요.\\n\" * 10)"
      ]
    },
    {
      "cell_type": "code",
      "source": [
        "# 문제 : a와 b가 가지고 있는 값을 서로 뒤바꿔주세요.\n",
        "# 조건 : 아래와 같이 출력 되도록 해주세요.\n",
        "\n",
        "# 문제시작\n",
        "a = 5\n",
        "b = 10\n",
        "\n",
        "# 구현시작\n",
        "\n",
        "# 구현끝\n",
        "\n",
        "print(\"a : {}\".format(a))\n",
        "# 출력 => a : 10\n",
        "\n",
        "print(\"b : {}\".format(b))\n",
        "# 출력 => b : 5\n",
        "\n",
        "# 문제끝"
      ],
      "metadata": {
        "colab": {
          "base_uri": "https://localhost:8080/"
        },
        "id": "OJnrxXpzNDZ7",
        "outputId": "c0e89e9c-f36c-4da1-9dc9-bf757d69a86b"
      },
      "execution_count": 1,
      "outputs": [
        {
          "output_type": "stream",
          "name": "stdout",
          "text": [
            "a : 5\n",
            "b : 10\n"
          ]
        }
      ]
    },
    {
      "cell_type": "markdown",
      "source": [
        "a=10\n",
        "b=5\n",
        "\n",
        "b=a\n",
        "a+=a"
      ],
      "metadata": {
        "id": "_n3zEYRUP5cY"
      }
    },
    {
      "cell_type": "code",
      "source": [
        "# 문제 : a와 b가 가지고 있는 값을 서로 뒤바꿔주세요.\n",
        "# 조건 : 아래와 같이 출력 되도록 해주세요.\n",
        "# 조건 : 숫자, 사칙연산 사용 금지\n",
        "\n",
        "# 문제시작\n",
        "a = 5\n",
        "b = 10\n",
        "\n",
        "# 구현시작\n",
        "\n",
        "# 구현끝\n",
        "\n",
        "print(\"a : {}\".format(a))\n",
        "# 출력 => a : 10\n",
        "\n",
        "print(\"b : {}\".format(b))\n",
        "# 출력 => b : 5\n",
        "\n",
        "# 문제끝"
      ],
      "metadata": {
        "colab": {
          "base_uri": "https://localhost:8080/"
        },
        "id": "ITxoquxuNINl",
        "outputId": "6138c500-7f06-4d3f-80f7-8cb62bdc03e3"
      },
      "execution_count": null,
      "outputs": [
        {
          "output_type": "stream",
          "name": "stdout",
          "text": [
            "a : 10\n",
            "b : 10\n"
          ]
        }
      ]
    },
    {
      "cell_type": "markdown",
      "source": [
        "c=a a=b b=c"
      ],
      "metadata": {
        "id": "fsijvXFbQWV_"
      }
    },
    {
      "cell_type": "markdown",
      "source": [],
      "metadata": {
        "id": "FVtMwMJNXqpH"
      }
    },
    {
      "cell_type": "code",
      "source": [
        "# 문제 : 나이에 따른 올바른 말이 나오도록 해주세요.\n",
        "\n",
        "age = 22\n",
        "\n",
        "print(\"성인입니다.\")\n",
        "print(\"미성년입니다.\")"
      ],
      "metadata": {
        "id": "3sWQ7lUbXMNL"
      },
      "execution_count": null,
      "outputs": []
    },
    {
      "cell_type": "markdown",
      "source": [
        "if(age>=19):\n",
        "  print()\n",
        "if(age<19):\n",
        "  print()"
      ],
      "metadata": {
        "id": "tcQugGCsXzx2"
      }
    },
    {
      "cell_type": "code",
      "source": [
        "# 문제 : 실행되는 출력문에는 `참` 그렇지 않으면 `거짓` 이라고 적어주세요.\n",
        "# 조건 : `참1`, `참2`, `거짓1` 이런 순으로 적어주세요.\n",
        "\n",
        "# 문제시작\n",
        "a = 10\n",
        "\n",
        "# `==` => 같다.\n",
        "if ( a == 10 ):\n",
        "  print(\"\")\n",
        "\n",
        "# `!=` => 같지 않다.\n",
        "if ( a != 10 ):\n",
        "  print(\"\")\n",
        "\n",
        "if ( a > 10 ):\n",
        "  print(\"\")\n",
        "\n",
        "if ( a >= 10 ):\n",
        "  print(\"\")\n",
        "\n",
        "b = 10\n",
        "\n",
        "if ( a == b ):\n",
        "  print(\"\")\n",
        "\n",
        "# c 에는 true or false 이 담긴다.\n",
        "c = a != b\n",
        "\n",
        "if ( c ):\n",
        "  print(\"\")\n",
        "\n",
        "if ( c == False ):\n",
        "  print(\"\")\n",
        "\n",
        "# `not` => 반전\n",
        "if ( not c ):\n",
        "  print(\"\")\n",
        "\n",
        "if ( not(not c) ):\n",
        "  print(\"\")\n",
        "\n",
        "d = True\n",
        "\n",
        "if ( c != d ):\n",
        "  print(\"\")\n",
        "\n",
        "if ( 10 > 5 and -6 > -10 and 10 != 10 ):\n",
        "  print(\"\")\n",
        "\n",
        "if ( 10 < 5 and -6 < -10 and 10 != 10 or 10 > 5 ):\n",
        "  print(\"\")\n",
        "# 문제끝"
      ],
      "metadata": {
        "id": "pb_0wbdmXWxs",
        "colab": {
          "base_uri": "https://localhost:8080/"
        },
        "outputId": "6bda90fc-fc8f-4a1a-f6e2-d97071d26fb2"
      },
      "execution_count": null,
      "outputs": [
        {
          "output_type": "stream",
          "name": "stdout",
          "text": [
            "\n",
            "\n",
            "\n",
            "\n",
            "\n",
            "\n",
            "\n"
          ]
        }
      ]
    },
    {
      "cell_type": "markdown",
      "source": [
        "참1 거짓1 거짓2 참2 참3 거짓3 참4 참5 거짓4 참6 거짓5 참7"
      ],
      "metadata": {
        "id": "U3YWlhs8Y5DD"
      }
    }
  ]
}