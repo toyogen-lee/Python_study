{
  "nbformat": 4,
  "nbformat_minor": 0,
  "metadata": {
    "colab": {
      "provenance": [],
      "authorship_tag": "ABX9TyPS4g4nwv3SE2yNUElo5SFj",
      "include_colab_link": true
    },
    "kernelspec": {
      "name": "python3",
      "display_name": "Python 3"
    },
    "language_info": {
      "name": "python"
    }
  },
  "cells": [
    {
      "cell_type": "markdown",
      "metadata": {
        "id": "view-in-github",
        "colab_type": "text"
      },
      "source": [
        "<a href=\"https://colab.research.google.com/github/toyogen-lee/Python_study/blob/main/Class0113_2.ipynb\" target=\"_parent\"><img src=\"https://colab.research.google.com/assets/colab-badge.svg\" alt=\"Open In Colab\"/></a>"
      ]
    },
    {
      "cell_type": "code",
      "execution_count": 2,
      "metadata": {
        "colab": {
          "base_uri": "https://localhost:8080/"
        },
        "id": "3VH1rd2cU_SL",
        "outputId": "9b633df5-57e6-4a55-8cf0-ec6ebf9ee741"
      },
      "outputs": [
        {
          "output_type": "stream",
          "name": "stdout",
          "text": [
            "hello\n",
            "hello\n"
          ]
        }
      ],
      "source": [
        "class 클래스명:\n",
        "  #객체로 만들었을 때 사용하고자 하는 속성, 기능을 정의하는 공간\n",
        "  def 함수명(self):  #클래스 내에서 만든 함수(메서드)는 무조건(두가지 경우만 제외) 첫번째 매개변수로 self\n",
        "    print('hello')\n",
        "\n",
        "a = 클래스명()\n",
        "a.함수명()\n",
        "\n",
        "b = 클래스명()\n",
        "b.함수명()\n"
      ]
    },
    {
      "cell_type": "markdown",
      "source": [
        "클래스를 설계도에 비유\n",
        "\n",
        "플레이어\n",
        "닉네임, 공격력, 공격하다\n",
        "\n",
        "데이터를 반복 사용하기 위해 객체를 사용한다."
      ],
      "metadata": {
        "id": "XZkuiesBXH4q"
      }
    },
    {
      "cell_type": "code",
      "source": [
        "class Person:\n",
        "  def hello(self, name):\n",
        "    print('안녕하세요 저는 ' + name + '입니다.')\n",
        "\n",
        "a = Person() # a는 Person 클래스의 인스턴스\n",
        "a.hello('홍길동')"
      ],
      "metadata": {
        "colab": {
          "base_uri": "https://localhost:8080/"
        },
        "id": "vSKPZpCXYPee",
        "outputId": "7bebec02-27d5-4d27-d61b-12b04edf509d"
      },
      "execution_count": 3,
      "outputs": [
        {
          "output_type": "stream",
          "name": "stdout",
          "text": [
            "안녕하세요 저는 홍길동입니다.\n"
          ]
        }
      ]
    },
    {
      "cell_type": "code",
      "source": [
        "class Per:\n",
        "  def hello(self):\n",
        "    print('hi')\n",
        "  def hello2(self):\n",
        "    self.hello()\n",
        "a = Per()\n",
        "a.hello2()"
      ],
      "metadata": {
        "colab": {
          "base_uri": "https://localhost:8080/"
        },
        "id": "X7d3DxMgbN-C",
        "outputId": "2f5df490-c63d-49b8-a6b8-cfec3c3131e5"
      },
      "execution_count": 4,
      "outputs": [
        {
          "output_type": "stream",
          "name": "stdout",
          "text": [
            "hi\n"
          ]
        }
      ]
    }
  ]
}