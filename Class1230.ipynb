{
  "nbformat": 4,
  "nbformat_minor": 0,
  "metadata": {
    "colab": {
      "provenance": [],
      "authorship_tag": "ABX9TyNPUMzmShvOAvETo9VFPV4g",
      "include_colab_link": true
    },
    "kernelspec": {
      "name": "python3",
      "display_name": "Python 3"
    },
    "language_info": {
      "name": "python"
    }
  },
  "cells": [
    {
      "cell_type": "markdown",
      "metadata": {
        "id": "view-in-github",
        "colab_type": "text"
      },
      "source": [
        "<a href=\"https://colab.research.google.com/github/toyogen-lee/Python_study/blob/main/Class1230.ipynb\" target=\"_parent\"><img src=\"https://colab.research.google.com/assets/colab-badge.svg\" alt=\"Open In Colab\"/></a>"
      ]
    },
    {
      "cell_type": "code",
      "execution_count": null,
      "metadata": {
        "id": "4YpevuE4A7Qj"
      },
      "outputs": [],
      "source": [
        "#카멜 - 변수 이름, 함수 이름, 메소드 이름 지을 때\n",
        "writerName = 'asd'\n",
        "#파스칼 - 클래스 이름 지을 때\n",
        "WriterName = 'asd'\n",
        "#스네이크 - 데이터베이스 쪽에서 주로 활용\n",
        "writer_name = 'asd'\n",
        "#헝가리안"
      ]
    },
    {
      "cell_type": "code",
      "source": [
        "#변수 이름이 너무 길면, 최대한 간결한 변수 + 주석\n",
        "x = 5  #x는 ~이다."
      ],
      "metadata": {
        "id": "KyTCSBIUDsNG"
      },
      "execution_count": null,
      "outputs": []
    },
    {
      "cell_type": "code",
      "source": [
        "a = 10     #코딩에서 정수와 실수는 다름\n",
        "b = 10.0"
      ],
      "metadata": {
        "id": "h5HXYkhYE9nz"
      },
      "execution_count": null,
      "outputs": []
    },
    {
      "cell_type": "code",
      "source": [
        "#변수가 = 좌변에 있으면 무조건 공간으로서의 역할\n",
        "#변수가 = 좌변에 있지 않으면 무조건 값\n",
        "x = 5\n",
        "y = 3\n",
        "print(x+y)"
      ],
      "metadata": {
        "colab": {
          "base_uri": "https://localhost:8080/"
        },
        "id": "3A0FQnaWG4uK",
        "outputId": "f401e4c4-b7ad-4bb0-c016-3e206c27c5ec"
      },
      "execution_count": null,
      "outputs": [
        {
          "output_type": "stream",
          "name": "stdout",
          "text": [
            "8\n"
          ]
        }
      ]
    },
    {
      "cell_type": "code",
      "source": [
        "#산술연산자 + - * / // % **"
      ],
      "metadata": {
        "id": "yu98zSRGIDaM"
      },
      "execution_count": null,
      "outputs": []
    },
    {
      "cell_type": "code",
      "source": [
        "#조건문\n",
        "\n",
        "if 1 == 1:\n",
        "  print('success')  #들여쓰기(문법) - 파이썬에서 중요하다.\n",
        "print('??')\n",
        "\n",
        "a=10\n",
        "b=15\n",
        "if a == 10 and b < 15:\n",
        "  print('success')    #false\n",
        "\n",
        "a = True\n",
        "if a:\n",
        "  print('s')"
      ],
      "metadata": {
        "colab": {
          "base_uri": "https://localhost:8080/"
        },
        "id": "X26c3cysSXZx",
        "outputId": "68d036fb-a373-4883-d9c2-312403687e03"
      },
      "execution_count": null,
      "outputs": [
        {
          "output_type": "stream",
          "name": "stdout",
          "text": [
            "success\n",
            "??\n",
            "s\n"
          ]
        }
      ]
    }
  ]
}