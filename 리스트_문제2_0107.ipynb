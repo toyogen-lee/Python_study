{
  "nbformat": 4,
  "nbformat_minor": 0,
  "metadata": {
    "colab": {
      "provenance": [],
      "include_colab_link": true
    },
    "kernelspec": {
      "name": "python3",
      "display_name": "Python 3"
    },
    "language_info": {
      "name": "python"
    }
  },
  "cells": [
    {
      "cell_type": "markdown",
      "metadata": {
        "id": "view-in-github",
        "colab_type": "text"
      },
      "source": [
        "<a href=\"https://colab.research.google.com/github/toyogen-lee/Python_study/blob/main/%EB%A6%AC%EC%8A%A4%ED%8A%B8_%EB%AC%B8%EC%A0%9C2_0107.ipynb\" target=\"_parent\"><img src=\"https://colab.research.google.com/assets/colab-badge.svg\" alt=\"Open In Colab\"/></a>"
      ]
    },
    {
      "cell_type": "markdown",
      "source": [],
      "metadata": {
        "id": "UXqaw_bue2G6"
      }
    },
    {
      "cell_type": "code",
      "execution_count": null,
      "metadata": {
        "id": "ggYgOV61d2Qz",
        "outputId": "647e2ddb-14a1-424b-c97d-99ba2a8d702c",
        "colab": {
          "base_uri": "https://localhost:8080/"
        }
      },
      "outputs": [
        {
          "output_type": "stream",
          "name": "stdout",
          "text": [
            "월\n"
          ]
        }
      ],
      "source": [
        "# 문제 : 리스트에 순서대로 '월', '화', '수', '목', '금'을 한번에 담아주세요. 그리고 가장 처음 요소를 출력해주세요.\n",
        "a = ['월', '화', '수', '목', '금']\n",
        "print(a[0])"
      ]
    },
    {
      "cell_type": "code",
      "source": [
        "# 문제 : 리스트에 순서대로 '월', '화', '수', '목', '금'을 한번에 담아주세요. 그리고 가장 마지막 요소를 출력해주세요.\n",
        "a = ['월', '화', '수', '목', '금']\n",
        "print(a[len(a) - 1])\n",
        "print(a[len(a) - 2])"
      ],
      "metadata": {
        "id": "PABQPJZNeLqv",
        "outputId": "54883b3d-7dd4-4fa3-e90a-d22f1f71ff5e",
        "colab": {
          "base_uri": "https://localhost:8080/"
        }
      },
      "execution_count": null,
      "outputs": [
        {
          "output_type": "stream",
          "name": "stdout",
          "text": [
            "금\n",
            "목\n"
          ]
        }
      ]
    },
    {
      "cell_type": "code",
      "source": [
        "# 문제 : 리스트에 순서대로 '월', '화', '수', '목', '금'을 한번에 담아주세요. 그리고 가장 마지막에서 2번째 요소를 출력해주세요."
      ],
      "metadata": {
        "id": "l-D5YVtceLub"
      },
      "execution_count": null,
      "outputs": []
    },
    {
      "cell_type": "code",
      "source": [
        "# 문제 : 리스트에 순서대로 '월', '화', '수', '목', '금'을 한번에 담아주세요. 그리고 while문을 이용해서 요소 전부 출력해주세요.\n",
        "a = ['월', '화', '수', '목', '금']\n",
        "i = 0\n",
        "while i < len(a):\n",
        "  print(a[i])\n",
        "  i += 1"
      ],
      "metadata": {
        "id": "pdmNx_O5eLxu",
        "outputId": "1a915385-0480-43dc-ae40-c08fd981412b",
        "colab": {
          "base_uri": "https://localhost:8080/"
        }
      },
      "execution_count": null,
      "outputs": [
        {
          "output_type": "stream",
          "name": "stdout",
          "text": [
            "월\n",
            "화\n",
            "수\n",
            "목\n",
            "금\n"
          ]
        }
      ]
    },
    {
      "cell_type": "code",
      "source": [
        "# 문제 : 리스트에 순서대로 '월', '화', '수', '목', '금'을 한번에 담아주세요. 그리고 while문을 이용해서 요소 전부 역순으로 출력해주세요.\n",
        "a = ['월', '화', '수', '목', '금']\n",
        "i = len(a) - 1\n",
        "while i >= 0:\n",
        "  print(a[i])\n",
        "  i -= 1"
      ],
      "metadata": {
        "id": "S7n1l2c8eL1L",
        "outputId": "6dd09817-6967-45e2-88ad-1c81b2b3cdf5",
        "colab": {
          "base_uri": "https://localhost:8080/"
        }
      },
      "execution_count": null,
      "outputs": [
        {
          "output_type": "stream",
          "name": "stdout",
          "text": [
            "금\n",
            "목\n",
            "수\n",
            "화\n",
            "월\n"
          ]
        }
      ]
    }
  ]
}