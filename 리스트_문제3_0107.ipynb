{
  "nbformat": 4,
  "nbformat_minor": 0,
  "metadata": {
    "colab": {
      "provenance": [],
      "include_colab_link": true
    },
    "kernelspec": {
      "name": "python3",
      "display_name": "Python 3"
    },
    "language_info": {
      "name": "python"
    }
  },
  "cells": [
    {
      "cell_type": "markdown",
      "metadata": {
        "id": "view-in-github",
        "colab_type": "text"
      },
      "source": [
        "<a href=\"https://colab.research.google.com/github/toyogen-lee/Python_study/blob/main/%EB%A6%AC%EC%8A%A4%ED%8A%B8_%EB%AC%B8%EC%A0%9C3_0107.ipynb\" target=\"_parent\"><img src=\"https://colab.research.google.com/assets/colab-badge.svg\" alt=\"Open In Colab\"/></a>"
      ]
    },
    {
      "cell_type": "code",
      "execution_count": null,
      "metadata": {
        "id": "RiCqF8Y_e5y5",
        "colab": {
          "base_uri": "https://localhost:8080/"
        },
        "outputId": "688b33da-6b17-4c1a-9f36-c115cd5208cc"
      },
      "outputs": [
        {
          "output_type": "stream",
          "name": "stdout",
          "text": [
            "[2, 1, 5, 6, 7]\n"
          ]
        }
      ],
      "source": [
        "# 문제 : 리스트에 순서대로 2, 1, '오', 6, 7를 한번에 담아주세요. 그리고 리스트 안에 있는 '오'를 정수 5로 변경해주세요.\n",
        "a = [2, 1, '오', 6, 7]\n",
        "\n",
        "#a[2] = 5  나-방법1\n",
        "\n",
        "a[a.index('오')] = 5  #방법2\n",
        "\n",
        "print(a)\n",
        "\n"
      ]
    },
    {
      "cell_type": "code",
      "source": [
        "# 문제 : 리스트에 순서대로 2, 1, '오', 6, 7를 한번에 담아주세요. 그리고 리스트 안에 있는 '오'를 제거해주세요.\n",
        "a = [2, 1, '오', 6, 7]\n",
        "\n",
        "#a.pop(2)  나-방법1\n",
        "\n",
        "del a[a.index('오')]  #방법2\n",
        "\n",
        "print(a)"
      ],
      "metadata": {
        "id": "cI36lBgafFZI",
        "colab": {
          "base_uri": "https://localhost:8080/"
        },
        "outputId": "dd97e087-abaf-4cda-f119-4af3dd986e42"
      },
      "execution_count": null,
      "outputs": [
        {
          "output_type": "stream",
          "name": "stdout",
          "text": [
            "[2, 1, 6, 7]\n"
          ]
        }
      ]
    },
    {
      "cell_type": "code",
      "source": [
        "# 문제 : 리스트에 순서대로 '월', '화', '수', '목', '금'을 한번에 담아주세요. '화'가 리스트 안에 들어있는지 알려주세요.\n",
        "a = ['월', '화', '수', '목', '금']\n",
        "print('화' in a)"
      ],
      "metadata": {
        "id": "QarcKLdbfFhl",
        "colab": {
          "base_uri": "https://localhost:8080/"
        },
        "outputId": "41340430-5464-4c2a-88aa-b7b9c5a36d1a"
      },
      "execution_count": null,
      "outputs": [
        {
          "output_type": "stream",
          "name": "stdout",
          "text": [
            "True\n"
          ]
        }
      ]
    },
    {
      "cell_type": "code",
      "source": [
        "# 문제 : 리스트에 순서대로 '월', '화', '수', '목', '금'을 한번에 담아주세요. '화'가 리스트 안에서 몇 번째 데이터 인지 알려주세요.\n",
        "a = ['월', '화', '수', '목', '금']\n",
        "\n",
        "print(a.index('화') + 1)  #전날 수업에서 안배웠던 코드라서.."
      ],
      "metadata": {
        "id": "Ow6l6VeOfFrD",
        "colab": {
          "base_uri": "https://localhost:8080/"
        },
        "outputId": "be15b5da-a743-4236-a407-43a4c08202d7"
      },
      "execution_count": null,
      "outputs": [
        {
          "output_type": "stream",
          "name": "stdout",
          "text": [
            "2\n"
          ]
        }
      ]
    },
    {
      "cell_type": "code",
      "source": [
        "# 문제 : 리스트에 순서대로 '월', '화', '수', '목', '금'을 한번에 담아주세요. '화'가 리스트 안에 있는지 if문으로 체크 후, 있다면 삭제해주세요.\n",
        "a = ['월', '화', '수', '목', '금']\n",
        "if '화' in a:\n",
        "  a.remove('화')\n",
        "print(a)"
      ],
      "metadata": {
        "id": "m4EMTAZjfFzD",
        "colab": {
          "base_uri": "https://localhost:8080/"
        },
        "outputId": "c17e32ea-980a-43e4-8b46-687bfddf08ff"
      },
      "execution_count": null,
      "outputs": [
        {
          "output_type": "stream",
          "name": "stdout",
          "text": [
            "['월', '수', '목', '금']\n"
          ]
        }
      ]
    },
    {
      "cell_type": "code",
      "source": [
        "# 문제 : 리스트에 순서대로 '월', '화', '수', '목', '금'을 한번에 담아주세요. '토'가 리스트 안에 있는지 if문으로 체크 후, 있다면 삭제해주세요.\n",
        "a = ['월', '화', '수', '목', '금']\n",
        "if '토' in a:\n",
        "  a.remove('토')\n",
        "print(a)"
      ],
      "metadata": {
        "id": "_D-i-N-OfF6y",
        "colab": {
          "base_uri": "https://localhost:8080/"
        },
        "outputId": "c38a7581-09d2-4b38-d8a4-7cd7b48d403e"
      },
      "execution_count": null,
      "outputs": [
        {
          "output_type": "stream",
          "name": "stdout",
          "text": [
            "['월', '화', '수', '목', '금']\n"
          ]
        }
      ]
    },
    {
      "cell_type": "code",
      "source": [
        "# 문제 : 리스트에 순서대로 '월', '화', '수', '목', '금'을 한번에 담아주세요. 리스트에 있는 '금'을 삭제하는 3가지 방법을 보여주세요.\n",
        "a = ['월', '화', '수', '목', '금']\n",
        "#remove pop\n",
        "#del a[4]\n",
        "#del a[-1]  #마지막 인덱스 삭제\n",
        "#del a[a.index('금')]\n",
        "\n",
        "print(a)"
      ],
      "metadata": {
        "id": "Gp2M71HPfGCK",
        "colab": {
          "base_uri": "https://localhost:8080/"
        },
        "outputId": "89c40867-43e0-45d3-c30b-236d753c3355"
      },
      "execution_count": null,
      "outputs": [
        {
          "output_type": "stream",
          "name": "stdout",
          "text": [
            "['월', '화', '수', '목']\n"
          ]
        }
      ]
    },
    {
      "cell_type": "code",
      "source": [
        "# 문제 : 리스트에 순서대로 '월', '화', '수', '목', '금'을 한번에 담아주세요. 리스트에 있는 '금'을 안전하게 삭제하는 2가지 방법을 보여주세요.\n",
        "a = ['월', '화', '수', '목', '금']\n",
        "\n",
        "if '금' in a:\n",
        "  del a[a.index('금')]  # + remove\n",
        "print(a)"
      ],
      "metadata": {
        "id": "FgynUYStfGKf",
        "colab": {
          "base_uri": "https://localhost:8080/"
        },
        "outputId": "3d5c1743-3967-46ca-8898-c8aaba9a3945"
      },
      "execution_count": null,
      "outputs": [
        {
          "output_type": "stream",
          "name": "stdout",
          "text": [
            "['월', '화', '수', '목']\n"
          ]
        }
      ]
    },
    {
      "cell_type": "code",
      "source": [
        "# 문제 : 1부터, 10까지 리스트로 묶어주세요\n",
        "# 조건 : 정답을 여러가지 버전으로 만들어주세요.\n",
        "\n",
        "def sol_v1():\n",
        "  print(\"== 담기 ==\")\n",
        "  # 구현\n",
        "\n",
        "  print(\"== 출력 ==\")\n",
        "  # 구현\n",
        "\n",
        "def sol_v2():\n",
        "  print(\"== 담기 ==\")\n",
        "  # 구현\n",
        "\n",
        "  print(\"== 출력 ==\")\n",
        "  # 구현\n",
        "\n",
        "def sol_v3():\n",
        "  print(\"== 담기 ==\")\n",
        "  # 구현\n",
        "\n",
        "  print(\"== 출력 ==\")\n",
        "  # 구현\n",
        "\n",
        "print(\"== 정답 v1 ==\")\n",
        "sol_v1()\n",
        "print(\"== 정답 v2 ==\")\n",
        "sol_v2()\n",
        "print(\"== 정답 v3 ==\")\n",
        "sol_v3()"
      ],
      "metadata": {
        "id": "iv0Yj0-3fQXx"
      },
      "execution_count": null,
      "outputs": []
    }
  ]
}