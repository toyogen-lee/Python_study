{
  "nbformat": 4,
  "nbformat_minor": 0,
  "metadata": {
    "colab": {
      "provenance": [],
      "authorship_tag": "ABX9TyNZ4Ty8G/Afp56V/ohQWbt3",
      "include_colab_link": true
    },
    "kernelspec": {
      "name": "python3",
      "display_name": "Python 3"
    },
    "language_info": {
      "name": "python"
    }
  },
  "cells": [
    {
      "cell_type": "markdown",
      "metadata": {
        "id": "view-in-github",
        "colab_type": "text"
      },
      "source": [
        "<a href=\"https://colab.research.google.com/github/toyogen-lee/Python_study/blob/main/Class0103.ipynb\" target=\"_parent\"><img src=\"https://colab.research.google.com/assets/colab-badge.svg\" alt=\"Open In Colab\"/></a>"
      ]
    },
    {
      "cell_type": "code",
      "execution_count": null,
      "metadata": {
        "colab": {
          "base_uri": "https://localhost:8080/"
        },
        "id": "FrNTf7sFfnMX",
        "outputId": "be995625-dc89-4aec-c1e7-05be237a92f5"
      },
      "outputs": [
        {
          "output_type": "stream",
          "name": "stdout",
          "text": [
            "원하는것\n",
            "20\n",
            "asd\n",
            "qwer\n",
            "ooo\n",
            "10\n",
            "30\n",
            "40\n",
            "30\n",
            "10\n",
            "40\n",
            "60\n",
            "50\n",
            "test\n",
            "10\n"
          ]
        }
      ],
      "source": [
        "# 함수 : 자주 사용되는 기능을 만들어서 빼는 것  print()\n",
        "#재사용성이 좋다. | 가독성이 좋다.(협업)\n",
        "\n",
        "# **가독성 : 띄어쓰기, 들여쓰기, 변수 명명규칙\n",
        "\n",
        "#예약어 : if, while 등\n",
        "\n",
        "#함수를 만드는 방법\n",
        "def add():    #def : 함수를 선언하겠다\n",
        "  print(10+10)                  #pass  #말 그대로 패스\n",
        "\n",
        "print('원하는것')\n",
        "\n",
        "add()    #함수 호출(실행)\n",
        "\n",
        "#함수를 호출하는 상황에서 소괄호 안쪽에 들어가는 값\n",
        "#인수, 인자 - arguments\n",
        "\n",
        "#함수를 정의하는 상황에서 소괄호 안쪽에 들어가는 변수\n",
        "#매개변수 - parameter\n",
        "\n",
        "def add(a): #매개변수\n",
        "  print(a)\n",
        "\n",
        "add('asd') #인자\n",
        "add('qwer')\n",
        "\n",
        "\n",
        "\n",
        "def add(a = 'ooo'):\n",
        "  print(a)\n",
        "\n",
        "add()\n",
        "\n",
        "\n",
        "\n",
        "def add(a, b):\n",
        "  print(a)\n",
        "  print(b)\n",
        "  print(a + b)\n",
        "\n",
        "add(10, 30)\n",
        "add(b = 10, a = 30) #자리 바꾸기\n",
        "\n",
        "\n",
        "\n",
        "def add(*args):    # '*' args : 가변인자 ( * 이 중요)\n",
        "  print(sum(args))\n",
        "\n",
        "add(10, 20, 30)\n",
        "\n",
        "\n",
        "\n",
        "def add(a, b):\n",
        "  c = a + b\n",
        "  d = c + 20\n",
        "  return d  #최종 결과 return 후 종료\n",
        "\n",
        "rs = add(10, 20)\n",
        "print(rs)\n",
        "\n",
        "\n",
        "def add(a, b):\n",
        "  if a > b:\n",
        "    print('test')\n",
        "    return a - b\n",
        "\n",
        "  return a + b\n",
        "\n",
        "rs = add(30, 20)\n",
        "print(rs)"
      ]
    },
    {
      "cell_type": "code",
      "source": [
        "def add(a, b): #3\n",
        "  print(a)\n",
        "  print(b)\n",
        "  print(a + b)\n",
        "\n",
        "a = 20 #1\n",
        "b = 30\n",
        "add(b, a) #2"
      ],
      "metadata": {
        "colab": {
          "base_uri": "https://localhost:8080/"
        },
        "id": "4_ijaQJewXdF",
        "outputId": "6c5d3f44-8869-4bcb-8dcb-e582a528745c"
      },
      "execution_count": null,
      "outputs": [
        {
          "output_type": "stream",
          "name": "stdout",
          "text": [
            "30\n",
            "20\n",
            "50\n"
          ]
        }
      ]
    }
  ]
}