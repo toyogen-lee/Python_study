{
  "nbformat": 4,
  "nbformat_minor": 0,
  "metadata": {
    "colab": {
      "provenance": [],
      "include_colab_link": true
    },
    "kernelspec": {
      "name": "python3",
      "display_name": "Python 3"
    },
    "language_info": {
      "name": "python"
    }
  },
  "cells": [
    {
      "cell_type": "markdown",
      "metadata": {
        "id": "view-in-github",
        "colab_type": "text"
      },
      "source": [
        "<a href=\"https://colab.research.google.com/github/toyogen-lee/Python_study/blob/main/%ED%81%B4%EB%9E%98%EC%8A%A4_%EC%86%8D%EC%84%B1.ipynb\" target=\"_parent\"><img src=\"https://colab.research.google.com/assets/colab-badge.svg\" alt=\"Open In Colab\"/></a>"
      ]
    },
    {
      "cell_type": "code",
      "execution_count": null,
      "metadata": {
        "id": "FPnH2CtrQz9z"
      },
      "outputs": [],
      "source": [
        "# 인스턴스 속성(attribute, 변수)\n",
        "class Person:\n",
        "  def __init__(self):\n",
        "    self.folder = [] # 인스턴스 속성 -> 메서드에 속한다.\n",
        "\n",
        "  def add_file(self, file):\n",
        "    self.folder.append(file) # self로 인스턴스 속성에 접근한다.\n",
        "\n",
        "a = Person()\n",
        "a.add_file('txt')\n",
        "\n",
        "b = Person()\n",
        "b.add_file('png')\n",
        "\n",
        "print(a.folder)\n",
        "print(b.folder)"
      ]
    },
    {
      "cell_type": "code",
      "source": [
        "# 클래스 속성\n",
        "class Person:\n",
        "  folder = [] # 클래스 속성 -> 클래스에 속한다. 모든 인스턴스에서 접근이 가능하다(공유자원으로서)\n",
        "\n",
        "  def add_file(self, file):\n",
        "    Person.folder.append(file) # 클래스명으로 클래스 속성에 접근한다. 관례긴 하지만 왠만하면 지키는게 좋다.\n",
        "\n",
        "a = Person()\n",
        "a.add_file('txt')\n",
        "\n",
        "b = Person()\n",
        "b.add_file('png')\n",
        "\n",
        "print(Person.folder)\n",
        "print(b.folder)"
      ],
      "metadata": {
        "id": "lpDTMnkEUWhW"
      },
      "execution_count": null,
      "outputs": []
    },
    {
      "cell_type": "code",
      "source": [
        "# 비공개 클래스 속성\n",
        "class Person:\n",
        "  __weight = 70\n",
        "\n",
        "  def print_weight(self):\n",
        "    print(Person.__weight)\n",
        "\n",
        "a = Person()\n",
        "a.print_weight()\n",
        "\n",
        "# print(a.__weight) # 외부에서 접근 불가"
      ],
      "metadata": {
        "id": "wdKBxgBTXj6E"
      },
      "execution_count": null,
      "outputs": []
    }
  ]
}