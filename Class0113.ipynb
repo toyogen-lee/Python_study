{
  "nbformat": 4,
  "nbformat_minor": 0,
  "metadata": {
    "colab": {
      "provenance": [],
      "authorship_tag": "ABX9TyPkQ2ySYvuB2jDvXqe1JxBm",
      "include_colab_link": true
    },
    "kernelspec": {
      "name": "python3",
      "display_name": "Python 3"
    },
    "language_info": {
      "name": "python"
    }
  },
  "cells": [
    {
      "cell_type": "markdown",
      "metadata": {
        "id": "view-in-github",
        "colab_type": "text"
      },
      "source": [
        "<a href=\"https://colab.research.google.com/github/toyogen-lee/Python_study/blob/main/Class0113.ipynb\" target=\"_parent\"><img src=\"https://colab.research.google.com/assets/colab-badge.svg\" alt=\"Open In Colab\"/></a>"
      ]
    },
    {
      "cell_type": "code",
      "execution_count": null,
      "metadata": {
        "id": "swu8mfud5qGn"
      },
      "outputs": [],
      "source": [
        "#리스트 - []  |  튜플 - ()\n",
        "#딕셔너리 - {}, key : value  |  집합 - {}, value\n",
        "'''\n",
        "순서에 의미가 없는 자료형. 인덱스가 없다(인덱싱 불가). 가변 데이터\n",
        "**값의 중복을 허용하지 않는다.**\n",
        "\n",
        "무수히 많은 데이터들 중에 중복을 제거할 때\n",
        "데이터묶음끼리 합집합, 교집합, 차집합 등의 개념을 적용시키고자 할 때\n",
        "'''\n",
        "s = {1, 2, 2, 3, 3, 4}\n",
        "print(s)\n",
        "\n",
        "s1 = set([1, 1, 2, 2, 3, 3])\n",
        "print(s1)\n",
        "\n",
        "s2 = set('hello')\n",
        "print(s2)"
      ]
    },
    {
      "cell_type": "code",
      "source": [
        "s1 = {1, 2, 3, 4, 5}\n",
        "s2 = {4, 5, 6, 7, 8}\n",
        "\n",
        "print('교집합')\n",
        "print(s1 & s2)\n",
        "print(s2.intersection(s1))\n",
        "\n",
        "print('합집합')\n",
        "print(s1 | s2)\n",
        "print(s1.union(s2))\n",
        "\n",
        "print('차집합')\n",
        "print(s1 - s2)\n",
        "print(s1.difference(s2))"
      ],
      "metadata": {
        "id": "R7lx-yweDJLE"
      },
      "execution_count": null,
      "outputs": []
    },
    {
      "cell_type": "code",
      "source": [
        "s1 = {10, 20, 30}\n",
        "s1.add(6)\n",
        "s1.add('7')\n",
        "s1.remove(20)\n",
        "s1.discard(20) #집합은 중복이 안되서 remove 2번 불가능(error) -> discard 로 대체\n",
        "print(s1)\n",
        "\n",
        "s1.update([8, 9])\n",
        "print(s1)"
      ],
      "metadata": {
        "id": "UTdj3lxTEKAK"
      },
      "execution_count": null,
      "outputs": []
    },
    {
      "cell_type": "code",
      "source": [
        "#얕은 복사 - 객체지향 프로그래밍 - 가변(list, dictionary, set)\n",
        "#객체를 사용할 때마다 독립적인 새로운 객체를 사용한다면 매우 비효율적\n",
        "s1 = {1, 2, 3, 4, 5}\n",
        "s2 = s1  #공유\n",
        "s2.add(6)\n",
        "print(s1)\n",
        "print(s2)\n",
        "print(id(s1))  #같은 주소\n",
        "print(id(s2))\n",
        "\n",
        "a1 = [[1, 2], [2, 3]]\n",
        "a2 = a1.copy()\n",
        "print(id(a1))  #주소는 다르지만 얕은 복사\n",
        "print(id(a2))\n",
        "a2[0][0] = 100\n",
        "print(a1)\n",
        "print(a2)\n",
        "\n",
        "\n",
        "\n",
        "#깊은 복사 - 불변 자료형들처럼 각각의 독립적인 데이터로 처리하는 방법\n",
        "import copy\n",
        "s3 = {7, 8, 9}\n",
        "s4 = copy.deepcopy(s3)\n",
        "\n",
        "s4.add(4)\n",
        "print(s3)\n",
        "print(s4)\n",
        "\n",
        "#주소도 다름\n",
        "print(id(s3))\n",
        "print(id(s4))"
      ],
      "metadata": {
        "id": "WL4u_jWpFOYm"
      },
      "execution_count": null,
      "outputs": []
    }
  ]
}