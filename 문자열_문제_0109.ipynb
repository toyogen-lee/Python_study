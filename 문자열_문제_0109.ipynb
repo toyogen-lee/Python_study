{
  "nbformat": 4,
  "nbformat_minor": 0,
  "metadata": {
    "colab": {
      "provenance": [],
      "include_colab_link": true
    },
    "kernelspec": {
      "name": "python3",
      "display_name": "Python 3"
    },
    "language_info": {
      "name": "python"
    }
  },
  "cells": [
    {
      "cell_type": "markdown",
      "metadata": {
        "id": "view-in-github",
        "colab_type": "text"
      },
      "source": [
        "<a href=\"https://colab.research.google.com/github/toyogen-lee/Python_study/blob/main/%EB%AC%B8%EC%9E%90%EC%97%B4_%EB%AC%B8%EC%A0%9C_0109.ipynb\" target=\"_parent\"><img src=\"https://colab.research.google.com/assets/colab-badge.svg\" alt=\"Open In Colab\"/></a>"
      ]
    },
    {
      "cell_type": "code",
      "execution_count": null,
      "metadata": {
        "id": "choHNFP_rlUf"
      },
      "outputs": [],
      "source": [
        "print(\"== 예제 1 ==\")         #전부 성공\n",
        "s = \"안녕하세요.\"\n",
        "\n",
        "print(\"s의 길이 출력\")\n",
        "# 구현\n",
        "print(len(s))\n",
        "print(\"s를 이루는 문자 중에서 앞에서 문자 2개 출력\")\n",
        "# 구현\n",
        "print(s[:2])\n",
        "print(\"s를 이루는 문자 중에서 앞에서 문자 하나 건너 뛰고 1개 출력\")\n",
        "# 구현\n",
        "print(s[1:2])\n",
        "print(\"s를 이루는 문자 중에서 앞에서 문자 4개 출력, 첫 인덱스 생략\")\n",
        "# 구현\n",
        "print(s[:4])\n",
        "print(\"s를 이루는 문자 중에서 앞에서 문자 3개 건너뛰고, 나머지 전부 출력, len\")\n",
        "# 구현\n",
        "print(s[3:len(s)])\n",
        "print(\"s를 이루는 문자 중에서 앞에서 문자 3개 건너뛰고, 나머지 전부 출력, 뒤 인덱스 생략, 방법 2\")\n",
        "# 구현\n",
        "print(s[3:])\n",
        "print(s[-len(s)+3:])\n",
        "\n",
        "\n",
        "print(\"== 예제 2 ==\")        #전부 성공\n",
        "s = \"안녕하세요\"\n",
        "\n",
        "print(\"s를 이루는 문자를 하나씩 출력, while\")\n",
        "# 구현\n",
        "i = 0\n",
        "while i < len(s):\n",
        "  print(s[i])\n",
        "  i += 1\n",
        "print(\"s를 이루는 문자를 역순으로 하나씩 출력, while\")\n",
        "# 구현\n",
        "i = len(s) - 1\n",
        "while i >= 0:\n",
        "  print(s[i])\n",
        "  i -= 1\n",
        "print(\"s를 이루는 문자를 하나씩 출력, for\")\n",
        "# 구현\n",
        "for i in s:\n",
        "  print(i)\n",
        "\n",
        "\n",
        "print(\"== 예제 3 ==\")\n",
        "s = \"a안b녕c하d세e요f\"\n",
        "\n",
        "print(\"s를 이루는 문자 중에서 한글만 출력\")  #성공\n",
        "# 구현\n",
        "for i in range(1, len(s), 2):\n",
        "  print(s[i], end = '')\n",
        "print()\n",
        "print(\"s를 이루는 문자 중에서 한글만 출력, for, if or, continue\")\n",
        "# 구현\n",
        "for i in range(len(s)):  #나-출력은 잘 됬지만, 조건을 못 맞춰서 실패\n",
        "  if i % 2 != 0:\n",
        "    print(s[i], end = '')\n",
        "print()\n",
        "\n",
        "for char in s:  #선생님\n",
        "  if char == 'a' or char == 'b' or char == 'c' or char == 'd' or char == 'e' or char == 'f':\n",
        "    continue\n",
        "  print(char, end = '')\n",
        "print()\n",
        "\n",
        "print(\"s를 이루는 문자 중에서 한글만 출력, for, if and, 방법 2\")  #선생님\n",
        "# 구현\n",
        "for char in s:\n",
        "  if char != 'a' and char != 'b' and char != 'c' and char != 'd' and char != 'e' and char != 'f':\n",
        "    print(char, end = '')\n",
        "print()\n",
        "print(\"s를 이루는 문자 중에서 한글만 출력, for, not in, 방법 3\")  #선생님\n",
        "# 구현\n",
        "for char in s:\n",
        "  if char not in ['a', 'b', 'c', 'd', 'e', 'f']:\n",
        "    print(char, end = '')"
      ]
    },
    {
      "cell_type": "code",
      "source": [
        "# 문제 : string1을 구성하는 문자 중에서 a,b,c,d,e 를 제외하고 출력해주세요.\n",
        "# 조건 : 함수로 만들고 실행해주세요.\n",
        "# 조건 : 함수 안에 `string1 = \"안a녕b하c세d요e\"` 이 부분을 새로 넣어야 합니다.(지역변수로 만들어야 합니다)\n",
        "# 조건 : 2개 이상 만들어주세요.\n",
        "\n",
        "def sol_v1():\n",
        "  string1 = \"안a녕b하c세d요e\"\n",
        "  '''\n",
        "  i = 0\n",
        "  while i < len(string1):\n",
        "    if i % 2 != 0:\n",
        "      string1.replace(string1[i],' ')   실패\n",
        "    i += 1\n",
        "  print(string1)\n",
        "  '''\n",
        "  rs = ''\n",
        "  rs += string1[0] + string1[2] + string1[4] + string1[6] + string1[8]\n",
        "  print(rs)\n",
        "\n",
        "def sol_v2():\n",
        "  string1 = \"안a녕b하c세d요e\"\n",
        "\n",
        "  for v in string1:\n",
        "    if v != 'a' and v != 'b' and v != 'c' and v != 'd' and v != 'e':\n",
        "      print(v, end = '')\n",
        "\n",
        "sol_v1()\n",
        "sol_v2()"
      ],
      "metadata": {
        "id": "rd_Ju58TrrG5",
        "colab": {
          "base_uri": "https://localhost:8080/"
        },
        "outputId": "a4faa02f-ede9-42db-efcf-a47f7ac723bf"
      },
      "execution_count": null,
      "outputs": [
        {
          "output_type": "stream",
          "name": "stdout",
          "text": [
            "안녕하세요\n",
            "안녕하세요"
          ]
        }
      ]
    }
  ]
}