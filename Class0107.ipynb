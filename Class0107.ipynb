{
  "nbformat": 4,
  "nbformat_minor": 0,
  "metadata": {
    "colab": {
      "provenance": [],
      "authorship_tag": "ABX9TyMW/eE5xJtVS9DYIic5+60n",
      "include_colab_link": true
    },
    "kernelspec": {
      "name": "python3",
      "display_name": "Python 3"
    },
    "language_info": {
      "name": "python"
    }
  },
  "cells": [
    {
      "cell_type": "markdown",
      "metadata": {
        "id": "view-in-github",
        "colab_type": "text"
      },
      "source": [
        "<a href=\"https://colab.research.google.com/github/toyogen-lee/Python_study/blob/main/Class0107.ipynb\" target=\"_parent\"><img src=\"https://colab.research.google.com/assets/colab-badge.svg\" alt=\"Open In Colab\"/></a>"
      ]
    },
    {
      "cell_type": "code",
      "execution_count": null,
      "metadata": {
        "id": "xeEHHvWwEFyv",
        "colab": {
          "base_uri": "https://localhost:8080/"
        },
        "outputId": "61dd1884-139e-4b05-c9f3-c4f0d1c38309"
      },
      "outputs": [
        {
          "output_type": "stream",
          "name": "stdout",
          "text": [
            "40\n",
            "True\n",
            "Trueasd\n",
            "1.23\n",
            "<class 'str'>\n",
            "1\n"
          ]
        }
      ],
      "source": [
        "#자료형 변환\n",
        "#내가 가진 데이터를 내가 원하는 형태로 변환\n",
        "#***str int float***\n",
        "#list tuple set dict\n",
        "\n",
        "a = 20\n",
        "b = 'asd'\n",
        "c = 1.23\n",
        "d = True\n",
        "\n",
        "print(int('20') + a)\n",
        "\n",
        "print(str(d))\n",
        "print(str(d) + b)\n",
        "\n",
        "print(str(c))\n",
        "print(type(str(c)))\n",
        "\n",
        "print(int(c))"
      ]
    },
    {
      "cell_type": "code",
      "source": [
        "#list -> []\n",
        "#인덱싱 : index 사용해서 원하는 데이터를 추출\n",
        "#index : 시퀀스 자료형의 순서를 나타내는 값\n",
        "a = [1, 2, 3]\n",
        "print(a[0] + a[2])\n",
        "\n",
        "a = a + [4, 5]\n",
        "a.append(6)\n",
        "print(a)\n",
        "\n",
        "a.remove(4)\n",
        "print(a)\n",
        "\n",
        "a.pop(0)\n",
        "print(a)\n"
      ],
      "metadata": {
        "colab": {
          "base_uri": "https://localhost:8080/"
        },
        "id": "9vMCVF-NL2Wu",
        "outputId": "d539912c-e654-42cb-b1ac-c6f233dac2ed"
      },
      "execution_count": null,
      "outputs": [
        {
          "output_type": "stream",
          "name": "stdout",
          "text": [
            "4\n",
            "[1, 2, 3, 4, 5, 6]\n",
            "[1, 2, 3, 5, 6]\n",
            "[2, 3, 5, 6]\n",
            "None\n"
          ]
        }
      ]
    },
    {
      "cell_type": "code",
      "source": [
        "a = ['qqq', 2.345, 3, True, [1, 2]]\n",
        "print(a[0])\n",
        "print(a[2])\n",
        "print(a[4])\n",
        "print(a[4][1])\n",
        "\n",
        "print(a[1:4])\n",
        "\n",
        "a[1] = 'qwer'\n",
        "print(a)"
      ],
      "metadata": {
        "colab": {
          "base_uri": "https://localhost:8080/"
        },
        "id": "X35cLw_ZSz59",
        "outputId": "17e58829-f947-4ddf-808f-ba353e7fbe20"
      },
      "execution_count": null,
      "outputs": [
        {
          "output_type": "stream",
          "name": "stdout",
          "text": [
            "qqq\n",
            "3\n",
            "[1, 2]\n",
            "2\n",
            "[2.345, 3, True]\n",
            "['qqq', 'qwer', 3, True, [1, 2]]\n"
          ]
        }
      ]
    },
    {
      "cell_type": "code",
      "source": [
        "a = [1, 2, 3]\n",
        "b = [4, 5, 6, -1]\n",
        "print(a * 2)\n",
        "print(len(b))\n",
        "\n",
        "#멤버십 연산자33\n",
        "print(2 in a)\n",
        "print(2 not in a)"
      ],
      "metadata": {
        "colab": {
          "base_uri": "https://localhost:8080/"
        },
        "id": "hBx0peOeWPtt",
        "outputId": "09c7687d-4b48-4d10-d12b-550e040fe4ed"
      },
      "execution_count": null,
      "outputs": [
        {
          "output_type": "stream",
          "name": "stdout",
          "text": [
            "[1, 2, 3, 1, 2, 3]\n",
            "4\n",
            "True\n",
            "False\n"
          ]
        }
      ]
    }
  ]
}