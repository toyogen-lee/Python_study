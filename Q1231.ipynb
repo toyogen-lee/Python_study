{
  "nbformat": 4,
  "nbformat_minor": 0,
  "metadata": {
    "colab": {
      "provenance": [],
      "authorship_tag": "ABX9TyPRvc3S5V8e6C+shoVl4Sj+",
      "include_colab_link": true
    },
    "kernelspec": {
      "name": "python3",
      "display_name": "Python 3"
    },
    "language_info": {
      "name": "python"
    }
  },
  "cells": [
    {
      "cell_type": "markdown",
      "metadata": {
        "id": "view-in-github",
        "colab_type": "text"
      },
      "source": [
        "<a href=\"https://colab.research.google.com/github/toyogen-lee/Python_study/blob/main/Q1231.ipynb\" target=\"_parent\"><img src=\"https://colab.research.google.com/assets/colab-badge.svg\" alt=\"Open In Colab\"/></a>"
      ]
    },
    {
      "cell_type": "code",
      "execution_count": null,
      "metadata": {
        "colab": {
          "base_uri": "https://localhost:8080/"
        },
        "id": "2xbQWR1lKv4r",
        "outputId": "22bdefba-d7fe-4e31-a412-c6d163a1fff3"
      },
      "outputs": [
        {
          "output_type": "stream",
          "name": "stdout",
          "text": [
            "20대\n",
            "10대\n",
            "20대\n",
            "30대\n"
          ]
        }
      ],
      "source": [
        "# 문제 : 10대, 20대, 30대 중 나이에 맞는 변수를 출력해주세요.\n",
        "\n",
        "age = 35 # 25로 바꿔서 실행해보세요. 15로도 바꿔서 실행해보세요.\n",
        "\n",
        "print(\"10대\")\n",
        "print(\"20대\")\n",
        "print(\"30대\")"
      ]
    },
    {
      "cell_type": "markdown",
      "source": [
        "if age>=30 and age<40:\n",
        "  print(\"30대\")\n",
        "elif age>=20:\n",
        "  print(\"20대\")\n",
        "elif age>=10:\n",
        "  print(\"10대\")"
      ],
      "metadata": {
        "id": "eAbQy6kcK4V_"
      }
    },
    {
      "cell_type": "code",
      "source": [
        "# 문제 : 할인 대상인지 아닌지 출력해주세요.\n",
        "# 조건 : 나이가 19세 이하이거나 60세 이상이면 할인 대상입니다.\n",
        "\n",
        "age = 33\n",
        "\n",
        "print(\"할인 대상입니다.\")\n",
        "print(\"할인 대상이 아닙니다.\")"
      ],
      "metadata": {
        "id": "c-4-cGumKzFC"
      },
      "execution_count": null,
      "outputs": []
    },
    {
      "cell_type": "markdown",
      "source": [
        "if age<=19 or age>=60:\n",
        "  print(\"할인 대상입니다.\")\n",
        "else:\n",
        "  print(\"할인 대상이 아닙니다.\")"
      ],
      "metadata": {
        "id": "ZSRdiqAdMGKi"
      }
    },
    {
      "cell_type": "markdown",
      "source": [
        "if age>19 and age<60:\n",
        "  print(\"할인 대상이 아닙니다.\")\n",
        "else:\n",
        "  print(\"할인 대상입니다.\")     #best - 처리속도 가장 빠름"
      ],
      "metadata": {
        "id": "v770-TlDX-ik"
      }
    },
    {
      "cell_type": "code",
      "source": [
        "# 문제 : 할인 대상인지 아닌지 출력해주세요.\n",
        "# 조건 : 나이가 19세 이하이거나 60세 이상이면 할인 대상입니다.\n",
        "# 조건 : `and, or`없이 풀어야 합니다.\n",
        "# 조건 : 2가지 이상의 방법으로 풀어야 합니다.\n",
        "\n",
        "age = 33\n",
        "\n",
        "print(\"== 정답 v1 ==\")\n",
        "print(\"할인 대상입니다.\")\n",
        "print(\"할인 대상이 아닙니다.\")\n",
        "\n",
        "print(\"== 정답 v2 ==\")\n",
        "print(\"할인 대상입니다.\")\n",
        "print(\"할인 대상이 아닙니다.\")"
      ],
      "metadata": {
        "id": "6NmR2KYPK2xl"
      },
      "execution_count": null,
      "outputs": []
    },
    {
      "cell_type": "markdown",
      "source": [
        "if age<=19:\n",
        "  print(\"할인 대상입니다.\")\n",
        "elif age>=60:\n",
        "  print(\"할인 대상입니다.\")\n",
        "else:\n",
        "  print(\"할인 대상이 아닙니다.\")"
      ],
      "metadata": {
        "id": "BMHY3yEaMann"
      }
    },
    {
      "cell_type": "markdown",
      "source": [
        "if age>19:\n",
        " if age<60:\n",
        "  print(\"할인 대상이 아닙니다.\")\n",
        " else:\n",
        "  print(\"할인 대상입니다.\")\n",
        "else:\n",
        "  print(\"할인 대상입니다.\")       #다중조건\n"
      ],
      "metadata": {
        "id": "8EeG-TAEM_5u"
      }
    },
    {
      "cell_type": "markdown",
      "source": [
        "if age<=19:\n",
        "  print(\"할인 대상입니다.\")\n",
        "else:\n",
        " if age>=60:\n",
        "  print(\"할인 대상입니다.\")\n",
        " else:\n",
        "  print(\"할인 대상이 아닙니다.\")"
      ],
      "metadata": {
        "id": "6YQ1J9R4XB-F"
      }
    },
    {
      "cell_type": "code",
      "source": [
        "# 문제 : 구구단 8단을 출력해주세요.\n",
        "# 조건 : for, while문을 사용할 수 없습니다.\n",
        "\n",
        "\"\"\"\n",
        "출력 양식\n",
        "== 8단 ==\n",
        "8 * 1 = 8\n",
        "8 * 2 = 16\n",
        "8 * 3 = 24\n",
        "8 * 4 = 32\n",
        "8 * 5 = 40\n",
        "8 * 6 = 48\n",
        "8 * 7 = 56\n",
        "8 * 8 = 64\n",
        "8 * 9 = 72\n",
        "\"\"\""
      ],
      "metadata": {
        "id": "b7E6hFCwYfku"
      },
      "execution_count": null,
      "outputs": []
    },
    {
      "cell_type": "code",
      "source": [
        "#me\n",
        "a=8\n",
        "b=3\n",
        "c=a*b\n",
        "print(\"{} * \".format(a) + \"{}\".format(b) + \" = {}\".format(c))"
      ],
      "metadata": {
        "colab": {
          "base_uri": "https://localhost:8080/"
        },
        "id": "lqirlJ90Ypsp",
        "outputId": "a47b5845-2c81-4a6e-b74f-dcc40da6b18a"
      },
      "execution_count": null,
      "outputs": [
        {
          "output_type": "stream",
          "name": "stdout",
          "text": [
            "8 * 3 = 24\n"
          ]
        }
      ]
    },
    {
      "cell_type": "code",
      "source": [
        "#teacher\n",
        "dan = 8\n",
        "print(\"== {}단 ==\".format(dan))\n",
        "print(\"{} * 1 = {}\".format(dan, 8*1))\n",
        "print(\"{} * 2 = {}\".format(dan, 8*2))\n",
        "print(\"{} * 3 = {}\".format(dan, 8*3))"
      ],
      "metadata": {
        "colab": {
          "base_uri": "https://localhost:8080/"
        },
        "id": "H7DjdT-gb1qj",
        "outputId": "b0dce366-3cb4-4664-aff0-52e340b82ba3"
      },
      "execution_count": null,
      "outputs": [
        {
          "output_type": "stream",
          "name": "stdout",
          "text": [
            "== 8단 ==\n",
            "8 * 1 = 8\n",
            "8 * 2 = 16\n",
            "8 * 3 = 24\n"
          ]
        }
      ]
    },
    {
      "cell_type": "code",
      "source": [
        "d=19\n",
        "i=1\n",
        "print(\"{} * {} = {}\".format(d,i,d*i))\n",
        "i+=1\n",
        "print(\"{} * {} = {}\".format(d,i,d*i))\n",
        "i+=1\n",
        "print(\"{} * {} = {}\".format(d,i,d*i))\n",
        "i+=1\n",
        "print(\"{} * {} = {}\".format(d,i,d*i))\n",
        "i+=1\n",
        "print(\"{} * {} = {}\".format(d,i,d*i))\n",
        "i+=1\n",
        "print(\"{} * {} = {}\".format(d,i,d*i))\n",
        "i+=1\n",
        "print(\"{} * {} = {}\".format(d,i,d*i))\n",
        "i+=1\n",
        "print(\"{} * {} = {}\".format(d,i,d*i))\n",
        "i+=1\n",
        "print(\"{} * {} = {}\".format(d,i,d*i))"
      ],
      "metadata": {
        "colab": {
          "base_uri": "https://localhost:8080/"
        },
        "id": "YivFrJMzc6OB",
        "outputId": "088aebfb-2501-42b0-9a39-e3e3861f541a"
      },
      "execution_count": null,
      "outputs": [
        {
          "output_type": "stream",
          "name": "stdout",
          "text": [
            "19 * 1 = 19\n",
            "19 * 2 = 38\n",
            "19 * 3 = 57\n",
            "19 * 4 = 76\n",
            "19 * 5 = 95\n",
            "19 * 6 = 114\n",
            "19 * 7 = 133\n",
            "19 * 8 = 152\n",
            "19 * 9 = 171\n"
          ]
        }
      ]
    }
  ]
}