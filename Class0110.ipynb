{
  "nbformat": 4,
  "nbformat_minor": 0,
  "metadata": {
    "colab": {
      "provenance": [],
      "authorship_tag": "ABX9TyNNEqbJ2ZcXd+3YVWnJOKQB",
      "include_colab_link": true
    },
    "kernelspec": {
      "name": "python3",
      "display_name": "Python 3"
    },
    "language_info": {
      "name": "python"
    }
  },
  "cells": [
    {
      "cell_type": "markdown",
      "metadata": {
        "id": "view-in-github",
        "colab_type": "text"
      },
      "source": [
        "<a href=\"https://colab.research.google.com/github/toyogen-lee/Python_study/blob/main/Class0110.ipynb\" target=\"_parent\"><img src=\"https://colab.research.google.com/assets/colab-badge.svg\" alt=\"Open In Colab\"/></a>"
      ]
    },
    {
      "cell_type": "code",
      "execution_count": null,
      "metadata": {
        "id": "Bgsp0tM9ku79"
      },
      "outputs": [],
      "source": [
        "#dictionary   (파이썬에서의 HashMap 에 해당하는 것 같다.)\n",
        "'''\n",
        "sequence x\n",
        "{}를 사용\n",
        "데이터의 저장 방식이 특별하다. 데이터를 저장할 때 쌍으로 저장한다. - Key, Value\n",
        "\n",
        "***Key : 내가 저장해둔 데이터를 사용할 때 해당 데이터를 찾아갈 수 있는 근거\n",
        "Value : 저장해둔 데이터\n",
        "\n",
        "Key는 고유값이므로 절대 중복될 수 없다.\n",
        "'''\n",
        "a = {'k1' : 'v1', 'k2' : 'v2'}\n",
        "\n",
        "a['k1'] = 'modify v1'\n",
        "a['k3'] = ' add v3'\n",
        "a['k2'] = 'modify v2???'\n",
        "print(a)\n",
        "\n",
        "del a['k1']\n",
        "print(a)\n",
        "\n",
        "print(a.keys())\n",
        "print(a.values())\n",
        "print(a.items())\n"
      ]
    },
    {
      "cell_type": "code",
      "source": [
        "a = {   #여러 줄 - 가독성 up\n",
        "    'a' : 'A',\n",
        "    'b' : 'B',\n",
        "    0 : 33,\n",
        "    1 : {\n",
        "        'a' : 'apple',  #dictionary in dictionary\n",
        "        'b' : 'banana'\n",
        "    }\n",
        "}\n",
        "\n",
        "print(a['a'])\n",
        "print(a[1]['a'])\n",
        "\n",
        "print(1 in a)\n",
        "\n",
        "print('A' in a)  # No!\n",
        "print('A' in a.values())"
      ],
      "metadata": {
        "colab": {
          "base_uri": "https://localhost:8080/"
        },
        "id": "B_a-dMfKrthh",
        "outputId": "7e55bd8b-3b12-4831-9fa0-0c2bceb08382"
      },
      "execution_count": 18,
      "outputs": [
        {
          "output_type": "stream",
          "name": "stdout",
          "text": [
            "A\n",
            "apple\n",
            "True\n",
            "False\n",
            "True\n"
          ]
        }
      ]
    },
    {
      "cell_type": "code",
      "source": [
        "a = {'k1' : 'v1', 'k2' : 'v2'}\n",
        "#print(a('k3')) #error\n",
        "print(a.get('k3')) #None\n",
        "print(a.get('k3', 'k3은 존재하지 않습니다.')) #메시지를 보여줌.\n",
        "\n",
        "a['k3'] = a.get('k3', 0) + 3\n",
        "print(a)"
      ],
      "metadata": {
        "colab": {
          "base_uri": "https://localhost:8080/"
        },
        "id": "hnF-u0ACuIka",
        "outputId": "514ec3d0-d9f5-47f2-fa1c-c38169993eaf"
      },
      "execution_count": 24,
      "outputs": [
        {
          "output_type": "stream",
          "name": "stdout",
          "text": [
            "None\n",
            "k3은 존재하지 않습니다.\n",
            "{'k1': 'v1', 'k2': 'v2', 'k3': 3}\n"
          ]
        }
      ]
    },
    {
      "cell_type": "code",
      "source": [
        "scores = {\n",
        "    '국어' : 80,\n",
        "    '수학' : 95,\n",
        "    '영어' : 100\n",
        "}\n",
        "\n",
        "highScores = {k : v for k, v in scores.items() if v >= 85}  #간단하게\n",
        "\n",
        "highScores = {}\n",
        "for k, v in scores.items():\n",
        "  if v >= 85:\n",
        "    highScores[k] = v\n",
        "\n",
        "print(highScores)"
      ],
      "metadata": {
        "colab": {
          "base_uri": "https://localhost:8080/"
        },
        "id": "PG_NhW39vzgW",
        "outputId": "77d64d37-15c3-4b3f-8a36-f0957f810d4c"
      },
      "execution_count": 26,
      "outputs": [
        {
          "output_type": "stream",
          "name": "stdout",
          "text": [
            "{'수학': 95, '영어': 100}\n"
          ]
        }
      ]
    },
    {
      "cell_type": "code",
      "source": [
        "a = {\n",
        "    1 : 10,\n",
        "    2 : 20\n",
        "}\n",
        "b = {\n",
        "    3 : 30,\n",
        "    4 : 40\n",
        "}\n",
        "print(a | b)  #merge\n",
        "\n",
        "ero = {\n",
        "    '0' : 333,\n",
        "    0 : 333,\n",
        "    (1, 2) : 333,\n",
        "    #[1, 2] : 333   error : key에 들어갈 수 없는 형태 (가변 자료형)\n",
        "}"
      ],
      "metadata": {
        "colab": {
          "base_uri": "https://localhost:8080/"
        },
        "id": "Qc1Az2cS_tOx",
        "outputId": "16d6d40f-8b0c-4398-bb37-0f52da8cd1c0"
      },
      "execution_count": 27,
      "outputs": [
        {
          "output_type": "stream",
          "name": "stdout",
          "text": [
            "{1: 10, 2: 20, 3: 30, 4: 40}\n"
          ]
        }
      ]
    }
  ]
}