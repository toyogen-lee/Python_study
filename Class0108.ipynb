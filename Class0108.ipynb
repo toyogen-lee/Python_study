{
  "nbformat": 4,
  "nbformat_minor": 0,
  "metadata": {
    "colab": {
      "provenance": [],
      "authorship_tag": "ABX9TyOkC8f0pEdiHRUGs9/l3yOy",
      "include_colab_link": true
    },
    "kernelspec": {
      "name": "python3",
      "display_name": "Python 3"
    },
    "language_info": {
      "name": "python"
    }
  },
  "cells": [
    {
      "cell_type": "markdown",
      "metadata": {
        "id": "view-in-github",
        "colab_type": "text"
      },
      "source": [
        "<a href=\"https://colab.research.google.com/github/toyogen-lee/Python_study/blob/main/Class0108.ipynb\" target=\"_parent\"><img src=\"https://colab.research.google.com/assets/colab-badge.svg\" alt=\"Open In Colab\"/></a>"
      ]
    },
    {
      "cell_type": "code",
      "execution_count": null,
      "metadata": {
        "colab": {
          "base_uri": "https://localhost:8080/"
        },
        "id": "avahgYcCUoHo",
        "outputId": "74ffb3fb-280d-4ac0-8f3c-1e340cba2dc8"
      },
      "outputs": [
        {
          "output_type": "stream",
          "name": "stdout",
          "text": [
            "2\n",
            "[1, 2, 4, 5, 3]\n"
          ]
        }
      ],
      "source": [
        "a = [1, 2, 3, 4, 5, 3]\n",
        "print(a.index(3))\n",
        "\n",
        "a.remove(3)\n",
        "print(a)\n",
        "\n",
        "  #다른 인덱스에 같은 문자가 있을 때 앞 인덱스부터 처리한다."
      ]
    },
    {
      "cell_type": "code",
      "source": [
        "a = [10, 20, 30]\n",
        "s1, s2, s3 = map(str, a)\n",
        "print(s1 + s2 + s3)"
      ],
      "metadata": {
        "colab": {
          "base_uri": "https://localhost:8080/"
        },
        "id": "vS4EbVaudN-y",
        "outputId": "762a67b7-331d-4cc6-c143-d5a3c647299d"
      },
      "execution_count": null,
      "outputs": [
        {
          "output_type": "stream",
          "name": "stdout",
          "text": [
            "102030\n"
          ]
        }
      ]
    },
    {
      "cell_type": "code",
      "source": [
        "#tuple := list\n",
        "#리스트는 추가, 삭제, 수정 등의 후처리가 가능하지만, 튜플은 불가능\n",
        "\n",
        "a = [11, 22]\n",
        "a.remove(22)\n",
        "\n",
        "b = (13, 24)  #값 고정\n",
        "#b[0] = 10  tuple : impossible\n",
        "print(b[0])\n",
        "\n",
        "c = 234, 456  #자동으로 튜플로 인식\n",
        "print(c)\n",
        "\n",
        "d1 = (1)  #정수\n",
        "d2 = (1,)\n",
        "print(d1)\n",
        "print(d2)\n",
        "\n",
        "e = tuple([1, 2, 3])  #리스트를 튜플로 만들어\n",
        "print(e)"
      ],
      "metadata": {
        "colab": {
          "base_uri": "https://localhost:8080/"
        },
        "id": "9qLTxzyqeOlT",
        "outputId": "da358afd-c7d9-42b7-d1a2-ccb66cb108e4"
      },
      "execution_count": null,
      "outputs": [
        {
          "output_type": "stream",
          "name": "stdout",
          "text": [
            "13\n",
            "(234, 456)\n",
            "1\n",
            "(1,)\n",
            "(1, 2, 3)\n"
          ]
        }
      ]
    },
    {
      "cell_type": "code",
      "source": [
        "#튜플 언패킹\n",
        "\n",
        "a = (1, 2, 3)\n",
        "q, w, e = a\n",
        "\n",
        "print(q)\n",
        "print(w)\n",
        "print(e)\n",
        "\n",
        "\n",
        "def test():\n",
        "  return 10, 20\n",
        "\n",
        "s1, s2 = test()\n",
        "print(s1)\n",
        "print(s2)"
      ],
      "metadata": {
        "colab": {
          "base_uri": "https://localhost:8080/"
        },
        "id": "6eNSNRxshB5v",
        "outputId": "c32d62ea-1e40-4f20-99c1-45ad042f9a65"
      },
      "execution_count": null,
      "outputs": [
        {
          "output_type": "stream",
          "name": "stdout",
          "text": [
            "1\n",
            "2\n",
            "3\n",
            "10\n",
            "20\n"
          ]
        }
      ]
    },
    {
      "cell_type": "code",
      "source": [
        "#반복문 for\n",
        "\n",
        "for i in range(1, 11, 2):\n",
        "  print(i)\n",
        "\n",
        "for i in range(10, 0, -3):\n",
        "  print(i)\n",
        "\n",
        "a = [10, 20, 30, 40, 50]\n",
        "for v in a:\n",
        "  print(v)"
      ],
      "metadata": {
        "colab": {
          "base_uri": "https://localhost:8080/"
        },
        "id": "KFbLr_3nksv3",
        "outputId": "1772aec2-0bbf-46ac-ba43-e308810ad86e"
      },
      "execution_count": null,
      "outputs": [
        {
          "output_type": "stream",
          "name": "stdout",
          "text": [
            "1\n",
            "3\n",
            "5\n",
            "7\n",
            "9\n",
            "10\n",
            "7\n",
            "4\n",
            "1\n",
            "10\n",
            "20\n",
            "30\n",
            "40\n",
            "50\n"
          ]
        }
      ]
    }
  ]
}