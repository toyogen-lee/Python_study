{
  "nbformat": 4,
  "nbformat_minor": 0,
  "metadata": {
    "colab": {
      "provenance": [],
      "include_colab_link": true
    },
    "kernelspec": {
      "name": "python3",
      "display_name": "Python 3"
    },
    "language_info": {
      "name": "python"
    }
  },
  "cells": [
    {
      "cell_type": "markdown",
      "metadata": {
        "id": "view-in-github",
        "colab_type": "text"
      },
      "source": [
        "<a href=\"https://colab.research.google.com/github/toyogen-lee/Python_study/blob/main/%EC%9D%B8%EC%8A%A4%ED%84%B4%EC%8A%A4_%EC%86%8D%EC%84%B1_%EB%AC%B8%EC%A0%9C_0114.ipynb\" target=\"_parent\"><img src=\"https://colab.research.google.com/assets/colab-badge.svg\" alt=\"Open In Colab\"/></a>"
      ]
    },
    {
      "cell_type": "code",
      "execution_count": null,
      "metadata": {
        "id": "bj-hdyWlcp7m"
      },
      "outputs": [],
      "source": [
        "# 다음과 같은 요구 사항을 만족하는 Person 클래스를 작성하세요.\n",
        "# 이름(name)과 나이(age)를 인스턴스 속성으로 가집니다.\n",
        "# 생성자를 통해 이름과 나이를 초기화합니다.\n",
        "# Person 클래스의 객체를 생성한 후, 이름과 나이를 출력하세요.  -성공\n",
        "class Person:\n",
        "  def __init__(self, name, age):\n",
        "    self.name = name\n",
        "    self.age = age\n",
        "    print(f'name : {self.name}  |  age : {self.age}')\n",
        "\n",
        "a = Person('ghd', 22)"
      ]
    },
    {
      "cell_type": "code",
      "source": [
        "# 다음 요구 사항에 맞는 Book 클래스를 작성하세요.\n",
        "# 제목(title)과 저자(author)를 인스턴스 속성으로 가집니다.\n",
        "# 저자는 기본값으로 \"Unknown\"을 가집니다.\n",
        "# 제목은 반드시 생성자를 통해 전달받아야 합니다.\n",
        "# Book 객체를 생성하여 제목과 저자를 출력하세요.  -성공\n",
        "class Book:\n",
        "  def __init__(self, title):\n",
        "    self.title = title\n",
        "    self.author = 'Unknown'\n",
        "  def book(self):\n",
        "    print(f'title : {self.title}  |  author : {self.author}')\n",
        "\n",
        "a = Book('juju')\n",
        "a.book()"
      ],
      "metadata": {
        "id": "-nbO2tpNZDWI",
        "colab": {
          "base_uri": "https://localhost:8080/"
        },
        "outputId": "f98ede5c-0056-4cfc-a4b4-03ad99c7d1bb"
      },
      "execution_count": null,
      "outputs": [
        {
          "output_type": "stream",
          "name": "stdout",
          "text": [
            "title : juju  |  author : Unknown\n"
          ]
        }
      ]
    },
    {
      "cell_type": "code",
      "source": [
        "# 다음 요구 사항에 맞는 Car 클래스를 작성하세요.\n",
        "# 생성자를 통해 모델명(model)과 연식을 초기화합니다.\n",
        "# 연식은 기본값으로 현재 연도(2025)를 가집니다.\n",
        "# 객체를 생성한 후, 연식을 변경하여 새 연식을 출력하세요.  -성공\n",
        "'''\n",
        "class Car:\n",
        "  def __init__(self, model):\n",
        "    self.model = model\n",
        "    self.year = 2025\n",
        "\n",
        "a = Car('Benz')\n",
        "a.year = 204\n",
        "print(a.year)'''  #나\n",
        "\n",
        "class Car:\n",
        "  def __init__(self, model, year=2025):  #선생님\n",
        "    self.model = model\n",
        "    self.year = year\n",
        "a = Car('benz', 2030)\n",
        "print(a.year)"
      ],
      "metadata": {
        "id": "yFKtLyuFZHfA",
        "colab": {
          "base_uri": "https://localhost:8080/"
        },
        "outputId": "020dce86-69fe-42e6-dfdf-7b16621ae478"
      },
      "execution_count": null,
      "outputs": [
        {
          "output_type": "stream",
          "name": "stdout",
          "text": [
            "2030\n"
          ]
        }
      ]
    },
    {
      "cell_type": "code",
      "source": [
        "# 다음 코드가 실행될 때 출력 결과가 무엇인지 작성하세요.  -성공\n",
        "class Student:\n",
        "  def __init__(self, name, grade):\n",
        "    self.name = name\n",
        "    self.grade = grade\n",
        "\n",
        "student1 = Student(\"Alice\", \"A\")\n",
        "student2 = Student(\"Bob\", \"B\")\n",
        "\n",
        "print(student1.name, student1.grade)\n",
        "print(student2.name, student2.grade)"
      ],
      "metadata": {
        "id": "nLbFp2ICZKG3"
      },
      "execution_count": null,
      "outputs": []
    },
    {
      "cell_type": "markdown",
      "source": [
        "Alice, A\n",
        "Bob, B"
      ],
      "metadata": {
        "id": "NZWtLHHtfm0p"
      }
    },
    {
      "cell_type": "code",
      "source": [
        "# 다음 요구 사항에 맞는 Rectangle 클래스를 작성하세요.\n",
        "# 가로(width)와 세로(height)를 인스턴스 속성으로 가집니다.\n",
        "# 생성자를 통해 가로와 세로를 초기화합니다.\n",
        "# 사각형의 넓이를 반환하는 area() 메서드를 추가하세요.\n",
        "# 사각형 객체를 생성하고, 넓이를 출력하세요.\n",
        "class Rectangle:\n",
        "  def __init__(self, width, height):\n",
        "    self.width = width\n",
        "    self.height = height\n",
        "  def area(self):\n",
        "    return self.width * self.height  #여기부터 선생님이 풀어줌. 실패\n",
        "\n",
        "a = Rectangle(20, 20)\n",
        "print(a.area())"
      ],
      "metadata": {
        "id": "qxZpgvHaZQPX",
        "colab": {
          "base_uri": "https://localhost:8080/"
        },
        "outputId": "bc3ad955-824b-4e04-a1bc-dfeec3408d7b"
      },
      "execution_count": null,
      "outputs": [
        {
          "output_type": "stream",
          "name": "stdout",
          "text": [
            "400\n"
          ]
        }
      ]
    },
    {
      "cell_type": "code",
      "source": [
        "# Employee 클래스와 Department 클래스를 작성하세요. 요구 사항은 다음과 같습니다.\n",
        "\n",
        "# Employee 클래스\n",
        "# name과 position을 인스턴스 속성으로 가집니다.\n",
        "# 생성자를 통해 이름과 직책을 초기화합니다.\n",
        "\n",
        "# Department 클래스\n",
        "# name과 직원 목록(employees)을 인스턴스 속성으로 가집니다.\n",
        "# 생성자를 통해 부서 이름을 초기화하고, 직원 목록은 빈 리스트로 초기화합니다.\n",
        "# add_employee 메서드를 작성하여 Employee 객체를 추가합니다.\n",
        "# 부서에 속한 직원들의 이름을 출력하는 list_employees 메서드를 작성하세요.\n",
        "# Department 객체를 생성하고 여러 Employee 객체를 추가한 뒤, 직원 이름 목록을 출력하세요.   -20% 정도만 맞춤. 나머지 실패\n",
        "class Employee:\n",
        "  def __init__(self, name, position):\n",
        "    self.name = name\n",
        "    self.position = position\n",
        "\n",
        "class Department:\n",
        "  def __init__(self, name):\n",
        "    self.name = name\n",
        "    self.employees = []  #\n",
        "    '''\n",
        "  def add_employee(self):\n",
        "    self.Employee()\n",
        "    '''\n",
        "  def add_employee(self, emp):\n",
        "    self.employees.append(emp)\n",
        "  def list_employees(self):\n",
        "    for v in self.employees:\n",
        "      print(f'직원 이름 목록 : {v.name}')\n",
        "'''\n",
        "a = Department('kim', 'p')\n",
        "b = Department('lee', 'o')\n",
        "c = Department('go', 'z')\n",
        "a.list_employees()\n",
        "b.list_employees()\n",
        "c.list_employees()\n",
        "'''\n",
        "dept = Department('기술개발부')\n",
        "\n",
        "emp1 = Employee('kim', 'p')\n",
        "emp2 = Employee('lee', 'o')\n",
        "emp3 = Employee('park', 'z')\n",
        "\n",
        "dept.add_employee(emp1)\n",
        "dept.add_employee(emp2)\n",
        "dept.add_employee(emp3)\n",
        "\n",
        "print(dept.employees[0].name)\n",
        "dept.list_employees()"
      ],
      "metadata": {
        "id": "Z9yPfu7JbpcV",
        "colab": {
          "base_uri": "https://localhost:8080/"
        },
        "outputId": "0284b36c-bf1f-4942-c330-bc0b758632a4"
      },
      "execution_count": null,
      "outputs": [
        {
          "output_type": "stream",
          "name": "stdout",
          "text": [
            "kim\n",
            "직원 이름 목록 : kim\n",
            "직원 이름 목록 : lee\n",
            "직원 이름 목록 : park\n"
          ]
        }
      ]
    },
    {
      "cell_type": "code",
      "source": [
        "# Product 클래스를 작성하세요. 요구 사항은 다음과 같습니다.\n",
        "\n",
        "# name, price, stock을 인스턴스 속성으로 가집니다.\n",
        "# 생성자를 통해 이름, 가격, 재고를 초기화합니다.\n",
        "# 가격은 0보다 커야 하며, 그렇지 않으면 ValueError를 발생시킵니다.\n",
        "# 재고는 음수일 수 없으며, 음수 값이 들어오면 0으로 초기화합니다.\n",
        "# sell 메서드를 작성하여 재고를 감소시키고, 재고가 부족하면 경고 메시지를 출력합니다.\n",
        "# Product 객체를 생성하고 메서드를 호출하여 동작을 확인하세요.\n",
        "\n",
        "class Product:\n",
        "  def __init__(self, name, price, stock):\n",
        "    self.name = name\n",
        "    self.price = price\n",
        "    self.stock = stock\n",
        "    if price <= 0:\n",
        "      print('ValueError')\n",
        "    if stock < 0:\n",
        "      stock = 0\n",
        "  def sell(self, selling):\n",
        "    self.stock -= selling\n",
        "    if self.stock <= 0:\n",
        "      print('warning')\n",
        "    else:\n",
        "      print(f'{self.name}을(를) {selling}개 판매하였습니다. 남은 재고는 {self.stock}개입니다.')\n",
        "\n",
        "a = Product('meat', 4000, 10)\n",
        "a.sell(4)\n",
        "a.sell(2)\n"
      ],
      "metadata": {
        "id": "TIZ7qzW8buQ7",
        "colab": {
          "base_uri": "https://localhost:8080/"
        },
        "outputId": "9feb3414-6989-44ed-9a25-3796f22a48a7"
      },
      "execution_count": null,
      "outputs": [
        {
          "output_type": "stream",
          "name": "stdout",
          "text": [
            "meat을(를) 4개 판매하였습니다. 남은 재고는 6개입니다.\n",
            "meat을(를) 2개 판매하였습니다. 남은 재고는 4개입니다.\n"
          ]
        }
      ]
    }
  ]
}