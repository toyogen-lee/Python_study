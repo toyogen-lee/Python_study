{
  "nbformat": 4,
  "nbformat_minor": 0,
  "metadata": {
    "colab": {
      "provenance": [],
      "include_colab_link": true
    },
    "kernelspec": {
      "name": "python3",
      "display_name": "Python 3"
    },
    "language_info": {
      "name": "python"
    }
  },
  "cells": [
    {
      "cell_type": "markdown",
      "metadata": {
        "id": "view-in-github",
        "colab_type": "text"
      },
      "source": [
        "<a href=\"https://colab.research.google.com/github/toyogen-lee/Python_study/blob/main/%EB%94%95%EC%85%94%EB%84%88%EB%A6%AC_%EB%AC%B8%EC%A0%9C_0110.ipynb\" target=\"_parent\"><img src=\"https://colab.research.google.com/assets/colab-badge.svg\" alt=\"Open In Colab\"/></a>"
      ]
    },
    {
      "cell_type": "code",
      "execution_count": 15,
      "metadata": {
        "id": "wPUq-7zS0Tnd",
        "colab": {
          "base_uri": "https://localhost:8080/"
        },
        "outputId": "22cb3b8e-9c03-4da4-ddca-642f20b87bae"
      },
      "outputs": [
        {
          "output_type": "stream",
          "name": "stdout",
          "text": [
            "{'1월': 31, '2월': 28, '3월': 31}\n",
            "{'firstMonth': '31', 'secondMonth': '28'}\n"
          ]
        }
      ],
      "source": [
        "# 문제 : 딕셔너리에 각 달의 마지막 날들을 한번에 담기\n",
        "# 조건 : 1월 ~ 3월까지\n",
        "# 조건 : 2월의 마지막은 28일로 함\n",
        "# 조건 : 첫 데이터의 key는 \"1월\", value는 31\n",
        "\n",
        "a = {'1월' : 31, '2월' : 28, '3월' : 31}  #나-성공\n",
        "\n",
        "b = ['1월', '2월', '3월']  #방법2\n",
        "c = [31, 28, 31]\n",
        "d = zip(b, c)\n",
        "print(dict(d))\n",
        "\n",
        "e = dict(firstMonth = '31', secondMonth = '28', thirdMonth = '31')  #방법3\n",
        "print(e)"
      ]
    },
    {
      "cell_type": "code",
      "source": [
        "# 문제 : 딕셔너리에 각 달의 마지막 날들을 반복문을 통해 담기 - 성공\n",
        "a = {}\n",
        "i = 1\n",
        "while i <= 3:\n",
        "  if i == 1:\n",
        "    a[f'{i}월'] = 31\n",
        "  if i == 2:\n",
        "    a[f'{i}월'] = 28\n",
        "  if i == 3:\n",
        "    a[f'{i}월'] = 31\n",
        "  i += 1\n",
        "print(a)\n",
        "\n",
        "\n",
        "\n",
        "b = {}\n",
        "for i in range(1, 13):   #방법2\n",
        "  month = str(i) + '월'\n",
        "  endDay = 31\n",
        "  if i == 2:\n",
        "    endDay = 28\n",
        "  elif i in [4, 6, 9, 11]:\n",
        "    endDay = 30\n",
        "  b[month] = endDay\n",
        "print(b)"
      ],
      "metadata": {
        "id": "cUk1JLI40nxa",
        "colab": {
          "base_uri": "https://localhost:8080/"
        },
        "outputId": "f1c68d5b-95b5-496b-deaf-e4e4604ffc95"
      },
      "execution_count": 16,
      "outputs": [
        {
          "output_type": "stream",
          "name": "stdout",
          "text": [
            "{'1월': 31, '2월': 28, '3월': 31}\n",
            "{'1월': 31, '2월': 28, '3월': 31, '4월': 30, '5월': 31, '6월': 30, '7월': 31, '8월': 31, '9월': 30, '10월': 31, '11월': 30, '12월': 31}\n"
          ]
        }
      ]
    },
    {
      "cell_type": "code",
      "source": [
        "# 문제 : 딕셔너리에 각 달의 마지막 날들을 한번에 담고, 수작업으로 순회출력  -성공\n",
        "a = {'1월' : 31, '2월' : 28, '3월' : 31}\n",
        "print(a['1월'])\n",
        "print(a['2월'])\n",
        "print(a['3월'])"
      ],
      "metadata": {
        "id": "wc0VVPfj0n1x"
      },
      "execution_count": null,
      "outputs": []
    },
    {
      "cell_type": "code",
      "source": [
        "# 문제 : 딕셔너리에 각 달의 마지막 날들을 한번에 담고, keys()로 key 순회출력\n",
        "a = {'1월' : 31, '2월' : 28, '3월' : 31}\n",
        "for key in a.keys():\n",
        "  print(key)"
      ],
      "metadata": {
        "id": "jdFUirAp0n53"
      },
      "execution_count": null,
      "outputs": []
    },
    {
      "cell_type": "code",
      "source": [
        "# 문제 : 딕셔너리에 각 달의 마지막 날들을 한번에 담고, keys()로 key, value 순회출력\n",
        "a = {'1월' : 31, '2월' : 28, '3월' : 31}\n",
        "for key in a.keys():\n",
        "  print(key, a[key])"
      ],
      "metadata": {
        "id": "iSqDzLWh0n97"
      },
      "execution_count": null,
      "outputs": []
    },
    {
      "cell_type": "code",
      "source": [
        "# 문제 : 딕셔너리에 각 달의 마지막 날들을 한번에 담고, values()로 value 순회출력\n",
        "a = {'1월' : 31, '2월' : 28, '3월' : 31}\n",
        "for v in a.values():\n",
        "  print(v)"
      ],
      "metadata": {
        "id": "aakzzowh0oCY"
      },
      "execution_count": null,
      "outputs": []
    },
    {
      "cell_type": "code",
      "source": [
        "# 문제 : 딕셔너리에 각 달의 마지막 날들을 한번에 담고, items()로 key, value 순회출력\n",
        "a = {'1월' : 31, '2월' : 28, '3월' : 31}\n",
        "for k, v in a.items():\n",
        "  print(k, v)"
      ],
      "metadata": {
        "id": "DTQOVffa0oGV"
      },
      "execution_count": null,
      "outputs": []
    },
    {
      "cell_type": "code",
      "source": [
        "# 문제 : 딕셔너리에 각 달의 마지막 날들을 한번에 담고, 3월 정보를 제거  -성공\n",
        "a = {'1월' : 31, '2월' : 28, '3월' : 31}\n",
        "del a['3월']\n",
        "print(a)"
      ],
      "metadata": {
        "id": "fVlZXHdm0oLI"
      },
      "execution_count": null,
      "outputs": []
    },
    {
      "cell_type": "code",
      "source": [
        "# 문제 : 딕셔너리에 각 달의 마지막 날들을 한번에 담고, 2월을 29일로 수정  -성공\n",
        "a = {'1월' : 31, '2월' : 28, '3월' : 31}\n",
        "a['2월'] = 29\n",
        "print(a)"
      ],
      "metadata": {
        "id": "eSXbdvOB0oPK"
      },
      "execution_count": null,
      "outputs": []
    },
    {
      "cell_type": "code",
      "source": [
        "# 문제 : 딕셔너리에 각 달의 마지막 날들을 한번에 담고, update를 이용하여, 2월을 29일로 수정하고 4월, 5월의 정보도 추가  -성공\n",
        "a = {'1월' : 31, '2월' : 28, '3월' : 31}\n",
        "a.update({'2월' : 29, '4월' : 30, '5월' : 31})\n",
        "print(a)"
      ],
      "metadata": {
        "id": "2yac-LoA0oTm"
      },
      "execution_count": null,
      "outputs": []
    },
    {
      "cell_type": "code",
      "source": [
        "# 문제 : 영수, 영희, 철수, 민수의 나이를 딕셔너리에 담기\n",
        "# 조건 : 가장 효율적인 데이터 구조를 유지해주세요.\n",
        "# 조건 : 변수명을 명확하고 간결하게 지어주세요.\n",
        "# 조건 : 영수 11살\n",
        "# 조건 : 영희 12살\n",
        "# 조건 : 철수 13살\n",
        "# 조건 : 민수 14살"
      ],
      "metadata": {
        "id": "6Q2md6iu0oXz"
      },
      "execution_count": null,
      "outputs": []
    },
    {
      "cell_type": "code",
      "source": [
        "# 문제 : 영수, 영희, 철수, 민수의 나이를 딕셔너리에 담고, 데이터를 넣은 순서대로 순회출력  -실패?\n",
        "a = {\n",
        "    '영수' : 11,\n",
        "    '영희' : 12,\n",
        "    '철수' : 13,\n",
        "    '민수' : 14\n",
        " }\n",
        "name = ['영수', '영희', '철수', '민수']  #하지만 딕셔너리는 순서가 의미 없음\n",
        "for v in name:\n",
        "  print(a[v])\n"
      ],
      "metadata": {
        "id": "HPTciVxu0ocB",
        "colab": {
          "base_uri": "https://localhost:8080/"
        },
        "outputId": "2d4838d2-22e3-47bc-cc26-c56df036cd69"
      },
      "execution_count": 24,
      "outputs": [
        {
          "output_type": "stream",
          "name": "stdout",
          "text": [
            "11\n",
            "12\n",
            "13\n",
            "14\n"
          ]
        }
      ]
    }
  ]
}