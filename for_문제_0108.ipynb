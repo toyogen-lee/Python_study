{
  "nbformat": 4,
  "nbformat_minor": 0,
  "metadata": {
    "colab": {
      "provenance": [],
      "include_colab_link": true
    },
    "kernelspec": {
      "name": "python3",
      "display_name": "Python 3"
    },
    "language_info": {
      "name": "python"
    }
  },
  "cells": [
    {
      "cell_type": "markdown",
      "metadata": {
        "id": "view-in-github",
        "colab_type": "text"
      },
      "source": [
        "<a href=\"https://colab.research.google.com/github/toyogen-lee/Python_study/blob/main/for_%EB%AC%B8%EC%A0%9C_0108.ipynb\" target=\"_parent\"><img src=\"https://colab.research.google.com/assets/colab-badge.svg\" alt=\"Open In Colab\"/></a>"
      ]
    },
    {
      "cell_type": "code",
      "execution_count": null,
      "metadata": {
        "id": "cc7Lq9IXqrVW"
      },
      "outputs": [],
      "source": [
        "# 문제 : for문으로 1부터 100까지 출력  -성공\n",
        "for i in range(1, 101):\n",
        "  print(i)"
      ]
    },
    {
      "cell_type": "code",
      "source": [
        "# 문제 : for문으로 100부터 1까지 출력  -성공\n",
        "for i in range(100, 0, -1):\n",
        "  print(i)"
      ],
      "metadata": {
        "id": "K2-JGwLlrffz"
      },
      "execution_count": null,
      "outputs": []
    },
    {
      "cell_type": "code",
      "source": [
        "# 문제 : for문으로 1부터 100 사이의 짝수만 출력  -성공\n",
        "for i in range(2, 101, 2):\n",
        "  print(i)\n",
        "\n",
        "for i in range(1, 101):  #방법2\n",
        "  if i % 2 == 0:\n",
        "    print(i)"
      ],
      "metadata": {
        "id": "dt7vfizcrfj7"
      },
      "execution_count": null,
      "outputs": []
    },
    {
      "cell_type": "code",
      "source": [
        "# 문제 : for문으로 100부터 1 사이의 짝수만 출력  -성공\n",
        "for i in range(100, 0, -2):\n",
        "  print(i)"
      ],
      "metadata": {
        "id": "w8rvXUuarfnn"
      },
      "execution_count": null,
      "outputs": []
    },
    {
      "cell_type": "code",
      "source": [
        "# 문제 : for문으로 구구단 8단 출력  -성공\n",
        "for i in range(1, 10):\n",
        "  print(f'8 * {i} = {8 * i}')\n",
        "\n",
        "dan = 8\n",
        "i = 1\n",
        "while i <= 9:\n",
        "  print(f'{dan} * {i} = {dan * i}')  #방법2 - while\n",
        "  i += 1"
      ],
      "metadata": {
        "id": "9qVAbzUDrfq3",
        "collapsed": true
      },
      "execution_count": null,
      "outputs": []
    },
    {
      "cell_type": "code",
      "source": [
        "# 문제 : for문으로 구구단 1단 ~ 9단 출력  -성공\n",
        "for i in range(2, 10):\n",
        "  print(f'{i}단')\n",
        "  for j in range(1, 10):\n",
        "    print(f'{i} * {j} = {i * j}')\n"
      ],
      "metadata": {
        "id": "hopzgcdCrfuS"
      },
      "execution_count": null,
      "outputs": []
    },
    {
      "cell_type": "code",
      "source": [
        "# 문제 : for문으로 1부터 n사이에 존재하는 소수의 합을 반환하는 함수 구현 - 난이도 상\n",
        "'''\n",
        "def t():\n",
        " sum = 0\n",
        " n = input('n : ')\n",
        " for i in range(1, n + 1):\n",
        "   for j in range(1, i + 1):   실패했다..\n",
        "     if j == 1:\n",
        "       return False\n",
        "     while j < i:\n",
        "       if i % j == 0:\n",
        "        return False\n",
        "     else:\n",
        "      sum += i\n",
        "print(sum)\n",
        "'''\n",
        "\n",
        "def is_prime_number(num):  #소수판별코드\n",
        "  if num == 1:\n",
        "    return False\n",
        "  for i in range(2, num):\n",
        "    if num % i == 0:\n",
        "      return False\n",
        "  return True\n",
        "\n",
        "def prime_sum(num):\n",
        "  sum = 0\n",
        "  for i in range(1, num + 1):\n",
        "    if is_prime_number(i):\n",
        "      sum += i\n",
        "  return sum\n",
        "\n",
        "print(prime_sum(10))\n",
        "\n"
      ],
      "metadata": {
        "id": "SsyneInVrfxN"
      },
      "execution_count": null,
      "outputs": []
    },
    {
      "cell_type": "code",
      "source": [
        "# 문제 : 리스트에 2, 1, 5, 6, 7를 담고, for문으로 요소 전부 출력  -성공\n",
        "a = [2, 1, 5, 6, 7]\n",
        "for i in a:\n",
        "  print(i)"
      ],
      "metadata": {
        "id": "U1M81euOrf0N"
      },
      "execution_count": null,
      "outputs": []
    },
    {
      "cell_type": "code",
      "source": [
        "# 문제 : 리스트에 2, 1, 5, 6, 7를 담고, for문으로 요소 전부 출력, len 사용  -성공\n",
        "a = [2, 1, 5, 6, 7]\n",
        "for i in range(len(a)):\n",
        "  print(a[i])"
      ],
      "metadata": {
        "id": "0Hb6wfAbrf3M"
      },
      "execution_count": null,
      "outputs": []
    },
    {
      "cell_type": "code",
      "source": [
        "# 문제 : 리스트에 2, 1, 5, 6, 7를 담고, for문으로 요소들을 역순으로 출력, len 사용  -성공\n",
        "a = [2, 1, 5, 6, 7]\n",
        "for i in range(len(a)):\n",
        "  print(a[len(a) - 1 - i])\n",
        "\n",
        "for i in range(len(a) - 1, -1, -1):  #방법2\n",
        "  print(a[i])\n",
        "\n",
        "for v in reversed(a):  #방법3 reversed\n",
        "  print(v)"
      ],
      "metadata": {
        "id": "kVY-uMwvrf6I"
      },
      "execution_count": null,
      "outputs": []
    },
    {
      "cell_type": "code",
      "source": [
        "# 문제 : 리스트에 각 달의 끝 날짜들을 담고, '1월은 31일까지'와 같은 양식으로 출력  -성공\n",
        "a = [31, 28, 31, 30, 31, 30, 31, 31, 30, 31, 30, 31]\n",
        "for i in range(12):\n",
        "  print(f'{i + 1}월은 {a[i]}일까지')\n",
        "\n",
        "i = 1\n",
        "for v in a:\n",
        "  print(f'{i}월은 {v}일까지')  #방법2\n",
        "  i += 1"
      ],
      "metadata": {
        "id": "4FgJ-Worrf9T"
      },
      "execution_count": null,
      "outputs": []
    },
    {
      "cell_type": "code",
      "source": [
        "# 문제 : 리스트에 각 달의 끝 날짜들을 담고, '1월은 31일까지'와 같은 양식으로 출력, len 사용  -성공\n",
        "a = [31, 28, 31, 30, 31, 30, 31, 31, 30, 31, 30, 31]\n",
        "for i in range(len(a)):\n",
        "  print(f'{i + 1}월은 {a[i]}일까지')"
      ],
      "metadata": {
        "id": "qOPp0hr0roKe"
      },
      "execution_count": null,
      "outputs": []
    },
    {
      "cell_type": "code",
      "source": [
        "# 문제 : 리스트에 각 달의 끝 날짜들을 담고, '1월은 31일까지'와 같은 양식으로 출력, enumerate 사용  -성공\n",
        "a = [31, 28, 31, 30, 31, 30, 31, 31, 30, 31, 30, 31]\n",
        "for i, v in enumerate(a):\n",
        "  print(f'{i + 1}월은 {v}일까지')  #인터넷으로 검색해서 품."
      ],
      "metadata": {
        "id": "kNnyYM7FroOn"
      },
      "execution_count": null,
      "outputs": []
    }
  ]
}