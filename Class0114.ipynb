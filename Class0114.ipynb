{
  "nbformat": 4,
  "nbformat_minor": 0,
  "metadata": {
    "colab": {
      "provenance": [],
      "include_colab_link": true
    },
    "kernelspec": {
      "name": "python3",
      "display_name": "Python 3"
    },
    "language_info": {
      "name": "python"
    }
  },
  "cells": [
    {
      "cell_type": "markdown",
      "metadata": {
        "id": "view-in-github",
        "colab_type": "text"
      },
      "source": [
        "<a href=\"https://colab.research.google.com/github/toyogen-lee/Python_study/blob/main/Class0114.ipynb\" target=\"_parent\"><img src=\"https://colab.research.google.com/assets/colab-badge.svg\" alt=\"Open In Colab\"/></a>"
      ]
    },
    {
      "cell_type": "code",
      "execution_count": 1,
      "metadata": {
        "id": "BZBcSC9UC4AE",
        "colab": {
          "base_uri": "https://localhost:8080/"
        },
        "outputId": "83cc6cf3-adb0-4e86-d26a-9443a0005ca4"
      },
      "outputs": [
        {
          "output_type": "stream",
          "name": "stdout",
          "text": [
            "__init__ 실행됨\n",
            "hi 실행됨\n",
            "안녕\n",
            "__init__ 실행됨\n",
            "안녕\n"
          ]
        }
      ],
      "source": [
        "# 속성 attribute\n",
        "# 클래스 내에 변수를 정의하는 방법\n",
        "class Person:\n",
        "  def __init__(self): # 생성자\n",
        "    print('__init__ 실행됨')\n",
        "    self.hello = '안녕'\n",
        "\n",
        "  def hi(self):\n",
        "    print('hi 실행됨')\n",
        "    print(self.hello)\n",
        "\n",
        "a = Person() # 이 시점에서 __init__ 메서드는 실행됐다.\n",
        "a.hi()\n",
        "\n",
        "b = Person()\n",
        "print(b.hello)"
      ]
    },
    {
      "cell_type": "code",
      "source": [
        "class Person:\n",
        "  def __init__(self, name, age, hobby):\n",
        "    self.hello = '안녕'\n",
        "    self.name = name\n",
        "    self.age = age\n",
        "    self.hobby = hobby\n",
        "\n",
        "  # 클래스 내부에서 변수에 접근할 때 -> self.~\n",
        "  def introduce(self):\n",
        "    print(f'{self.hello} 나는 {self.age}살 {self.name}이야. 나의 취미는 {self.hobby}야')\n",
        "\n",
        "a = Person('홍길동', 22, '독서')\n",
        "a.introduce()\n",
        "\n",
        "# 클래스 외부에서 변수에 접근할 때 -> 객체가 연결된 변수(인스턴스).~\n",
        "print(a.name)\n",
        "\n",
        "b = Person('임꺽정', 20, '운동')\n",
        "b.introduce()\n",
        "print(b.age)\n"
      ],
      "metadata": {
        "id": "dAz3ttklIwLR"
      },
      "execution_count": null,
      "outputs": []
    },
    {
      "cell_type": "code",
      "source": [
        "class Person:\n",
        "  pass\n",
        "\n",
        "a = Person() # 인스턴스를 하나 생성해놓고\n",
        "\n",
        "a.name = '홍길동' # 추후에 변수와 값을 세팅하는 방법\n",
        "\n",
        "b = Person()\n",
        "b.name = '임꺽정'\n",
        "\n",
        "print(a.name)\n",
        "print(b.name)"
      ],
      "metadata": {
        "id": "TzQYiK1yMCEj"
      },
      "execution_count": null,
      "outputs": []
    },
    {
      "cell_type": "code",
      "source": [
        "# private attribute\n",
        "# 클래스 외부에서는 접근 불가. 클래스 내부에서만 사용 가능\n",
        "class Person:\n",
        "  def __init__(self, weight):\n",
        "    self.__weight = weight # 변수 앞에 __를 붙여서 비공개 속성으로 정의\n",
        "\n",
        "  def diet(self, loss_weight):\n",
        "    self.__weight = self.__weight - loss_weight\n",
        "    print(self.__weight)\n",
        "\n",
        "a = Person(70)\n",
        "\n",
        "a.diet(10)\n",
        "\n",
        "# 비공개 속성은 외부에서 접근이 불가하다\n",
        "# print(a.__weight)"
      ],
      "metadata": {
        "id": "v0x7QOvMOQFR"
      },
      "execution_count": null,
      "outputs": []
    },
    {
      "cell_type": "code",
      "source": [
        "class Person:\n",
        "  def __init__(self):  #생성자\n",
        "    pass\n",
        "\n",
        "  def __del__(self):  #소멸자\n",
        "    print('delete?')\n",
        "\n",
        "a = Person()\n",
        "#a.__del__()  소멸자는 호출 불가능\n",
        "del a\n",
        "\n",
        "#소멸자는 거의 사용하지 않음."
      ],
      "metadata": {
        "id": "ZcGglYJ5cXqS"
      },
      "execution_count": null,
      "outputs": []
    }
  ]
}