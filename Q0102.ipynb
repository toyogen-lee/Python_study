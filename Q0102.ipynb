{
  "nbformat": 4,
  "nbformat_minor": 0,
  "metadata": {
    "colab": {
      "provenance": [],
      "authorship_tag": "ABX9TyNNwdQ1AbbOc/ahhcrnURAR",
      "include_colab_link": true
    },
    "kernelspec": {
      "name": "python3",
      "display_name": "Python 3"
    },
    "language_info": {
      "name": "python"
    }
  },
  "cells": [
    {
      "cell_type": "markdown",
      "metadata": {
        "id": "view-in-github",
        "colab_type": "text"
      },
      "source": [
        "<a href=\"https://colab.research.google.com/github/toyogen-lee/Python_study/blob/main/Q0102.ipynb\" target=\"_parent\"><img src=\"https://colab.research.google.com/assets/colab-badge.svg\" alt=\"Open In Colab\"/></a>"
      ]
    },
    {
      "cell_type": "code",
      "execution_count": null,
      "metadata": {
        "id": "Ja7-5ZXOdQqJ"
      },
      "outputs": [],
      "source": [
        "# 문제 - 1부터 300까지 출력해주세요.\n",
        "i = 1\n",
        "while i <= 300:\n",
        "    print(i)\n",
        "    i += 1"
      ]
    },
    {
      "cell_type": "code",
      "source": [
        "# 문제 - 500부터 2330까지 출력해주세요.\n",
        "i = 500\n",
        "while True:\n",
        "    print(i)\n",
        "    i += 1\n",
        "    if i > 2330:\n",
        "        break"
      ],
      "metadata": {
        "id": "wIos7jRddXQh"
      },
      "execution_count": null,
      "outputs": []
    },
    {
      "cell_type": "code",
      "source": [
        "# 문제 - 100부터 -25까지 출력해주세요.\n",
        "i = 100\n",
        "while True:\n",
        "    print(i)\n",
        "    if i <= -25:\n",
        "        break\n",
        "    i -= 1"
      ],
      "metadata": {
        "colab": {
          "base_uri": "https://localhost:8080/"
        },
        "id": "Xu-PQ-Z6dbAn",
        "outputId": "f851b08b-3cae-403c-9da3-62dff85548f1"
      },
      "execution_count": null,
      "outputs": [
        {
          "output_type": "stream",
          "name": "stdout",
          "text": [
            "100\n",
            "99\n",
            "98\n",
            "97\n",
            "96\n",
            "95\n",
            "94\n",
            "93\n",
            "92\n",
            "91\n",
            "90\n",
            "89\n",
            "88\n",
            "87\n",
            "86\n",
            "85\n",
            "84\n",
            "83\n",
            "82\n",
            "81\n",
            "80\n",
            "79\n",
            "78\n",
            "77\n",
            "76\n",
            "75\n",
            "74\n",
            "73\n",
            "72\n",
            "71\n",
            "70\n",
            "69\n",
            "68\n",
            "67\n",
            "66\n",
            "65\n",
            "64\n",
            "63\n",
            "62\n",
            "61\n",
            "60\n",
            "59\n",
            "58\n",
            "57\n",
            "56\n",
            "55\n",
            "54\n",
            "53\n",
            "52\n",
            "51\n",
            "50\n",
            "49\n",
            "48\n",
            "47\n",
            "46\n",
            "45\n",
            "44\n",
            "43\n",
            "42\n",
            "41\n",
            "40\n",
            "39\n",
            "38\n",
            "37\n",
            "36\n",
            "35\n",
            "34\n",
            "33\n",
            "32\n",
            "31\n",
            "30\n",
            "29\n",
            "28\n",
            "27\n",
            "26\n",
            "25\n",
            "24\n",
            "23\n",
            "22\n",
            "21\n",
            "20\n",
            "19\n",
            "18\n",
            "17\n",
            "16\n",
            "15\n",
            "14\n",
            "13\n",
            "12\n",
            "11\n",
            "10\n",
            "9\n",
            "8\n",
            "7\n",
            "6\n",
            "5\n",
            "4\n",
            "3\n",
            "2\n",
            "1\n",
            "0\n",
            "-1\n",
            "-2\n",
            "-3\n",
            "-4\n",
            "-5\n",
            "-6\n",
            "-7\n",
            "-8\n",
            "-9\n",
            "-10\n",
            "-11\n",
            "-12\n",
            "-13\n",
            "-14\n",
            "-15\n",
            "-16\n",
            "-17\n",
            "-18\n",
            "-19\n",
            "-20\n",
            "-21\n",
            "-22\n",
            "-23\n",
            "-24\n",
            "-25\n"
          ]
        }
      ]
    },
    {
      "cell_type": "code",
      "source": [
        "# 문제 - 1부터 100 사이의 짝수만 출력해주세요.\n",
        "i = 1\n",
        "while i <= 100:\n",
        "    if i % 2 == 0:\n",
        "        print(i)\n",
        "    i += 1"
      ],
      "metadata": {
        "id": "eNvaXgr5ddPc"
      },
      "execution_count": null,
      "outputs": []
    },
    {
      "cell_type": "code",
      "source": [
        "# 문제 - 1부터 1000 사이의 수 중에서 3의 배수만 출력해주세요.\n",
        "i = 1\n",
        "while i <= 1000:\n",
        "    if i % 3 == 0:\n",
        "        print(i)\n",
        "    i += 1"
      ],
      "metadata": {
        "id": "Vh3suCcfeNw9"
      },
      "execution_count": null,
      "outputs": []
    },
    {
      "cell_type": "code",
      "source": [
        "# 문제 - 문제 구구단, 8단, 3단을 연달아 출력해주세요.\n",
        "i = 1\n",
        "while i <= 9:\n",
        "    print(f'8 * {i} = {8 * i}')\n",
        "    print(f'3 * {i} = {3 * i}')\n",
        "    i += 1"
      ],
      "metadata": {
        "id": "Gwv4k3QreRXa"
      },
      "execution_count": null,
      "outputs": []
    },
    {
      "cell_type": "code",
      "source": [
        "# 문제 - 1부터 5까지의 합을 출력해주세요.\n",
        "i = 0\n",
        "a = 1\n",
        "while a <= 5:\n",
        "  i += a\n",
        "  a += 1\n",
        "print(i)"
      ],
      "metadata": {
        "colab": {
          "base_uri": "https://localhost:8080/"
        },
        "id": "5mPGyPgseU0f",
        "outputId": "4b5f59e5-f888-4486-f61b-da98263245b9"
      },
      "execution_count": null,
      "outputs": [
        {
          "output_type": "stream",
          "name": "stdout",
          "text": [
            "15\n"
          ]
        }
      ]
    },
    {
      "cell_type": "code",
      "source": [
        "# 문제 - 1부터 100까지의 수 중에서 짝수의 합을 출력해주세요.\n",
        "a = 0\n",
        "b = 1\n",
        "while b <= 100:\n",
        "    if b % 2 == 0:\n",
        "        a += b\n",
        "    b += 1\n",
        "print(a)"
      ],
      "metadata": {
        "id": "LE-tFbf5eYKR"
      },
      "execution_count": null,
      "outputs": []
    },
    {
      "cell_type": "code",
      "source": [
        "# 문제 - 1부터 100까지의 수 중에서 짝수이고 3의 배수가 아닌 수의 합을 출력해주세요.\n",
        "a = 0    #나\n",
        "b = 1\n",
        "while b <= 100:\n",
        "    if b % 2 == 0 and b % 3 != 0:\n",
        "        a += b\n",
        "    b += 1\n",
        "print(a)\n",
        "\n",
        "sum = 0    #선생님\n",
        "i = 1\n",
        "while i <= 100:\n",
        "    if i % 2 == 0:\n",
        "     if i % 3 != 0:\n",
        "        sum += i\n",
        "    i += 1\n",
        "print(sum)\n"
      ],
      "metadata": {
        "colab": {
          "base_uri": "https://localhost:8080/"
        },
        "id": "Z9wSWs6iebYa",
        "outputId": "ff1bc023-8376-41a5-9ee1-ce96b9594fe7"
      },
      "execution_count": null,
      "outputs": [
        {
          "output_type": "stream",
          "name": "stdout",
          "text": [
            "1734\n",
            "1734\n"
          ]
        }
      ]
    },
    {
      "cell_type": "code",
      "source": [
        "# 문제 - 1부터 3까지 10번 반복해서 출력해주세요.\n",
        "i = 1\n",
        "while i <= 10:\n",
        "  j = 1\n",
        "  while j <= 3:\n",
        "    print(j)\n",
        "    j+=1\n",
        "  i+=1"
      ],
      "metadata": {
        "id": "Nfwf91l2uZnd"
      },
      "execution_count": null,
      "outputs": []
    },
    {
      "cell_type": "code",
      "source": [
        "# 문제 - 구구단을 출력해주세요.(2단 ~ 9단까지)\n",
        "i = 2\n",
        "while i<=9:\n",
        "  j=1\n",
        "  while j<=9:\n",
        "    print(\"{} * {} = {}\".format(i,j,i*j))\n",
        "    j+=1\n",
        "  i+=1"
      ],
      "metadata": {
        "id": "1hsabwqvuQuR"
      },
      "execution_count": null,
      "outputs": []
    },
    {
      "cell_type": "code",
      "source": [
        "# 문제 - 구구구단을 출력해주세요.\n",
        "a = 1\n",
        "while a <= 9:\n",
        "  b = 1\n",
        "  while b <= 9:\n",
        "    c=1\n",
        "    while c <= 9:\n",
        "      print(\"{} * {} * {} = {}\".format(a,b,c,a*b*c))\n",
        "      c += 1\n",
        "    b += 1\n",
        "  a += 1"
      ],
      "metadata": {
        "id": "rR7QQFSLuhw6"
      },
      "execution_count": null,
      "outputs": []
    }
  ]
}